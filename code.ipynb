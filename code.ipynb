{
 "cells": [
  {
   "cell_type": "code",
   "execution_count": 1,
   "id": "dynamic-aircraft",
   "metadata": {
    "execution": {
     "iopub.execute_input": "2021-05-16T12:59:44.403480Z",
     "iopub.status.busy": "2021-05-16T12:59:44.402466Z",
     "iopub.status.idle": "2021-05-16T12:59:45.720185Z",
     "shell.execute_reply": "2021-05-16T12:59:45.719589Z"
    },
    "papermill": {
     "duration": 1.35969,
     "end_time": "2021-05-16T12:59:45.720358",
     "exception": false,
     "start_time": "2021-05-16T12:59:44.360668",
     "status": "completed"
    },
    "tags": []
   },
   "outputs": [
    {
     "data": {
      "text/html": [
       "<div>\n",
       "<style scoped>\n",
       "    .dataframe tbody tr th:only-of-type {\n",
       "        vertical-align: middle;\n",
       "    }\n",
       "\n",
       "    .dataframe tbody tr th {\n",
       "        vertical-align: top;\n",
       "    }\n",
       "\n",
       "    .dataframe thead th {\n",
       "        text-align: right;\n",
       "    }\n",
       "</style>\n",
       "<table border=\"1\" class=\"dataframe\">\n",
       "  <thead>\n",
       "    <tr style=\"text-align: right;\">\n",
       "      <th></th>\n",
       "      <th>id</th>\n",
       "      <th>dur</th>\n",
       "      <th>proto</th>\n",
       "      <th>service</th>\n",
       "      <th>state</th>\n",
       "      <th>spkts</th>\n",
       "      <th>dpkts</th>\n",
       "      <th>sbytes</th>\n",
       "      <th>dbytes</th>\n",
       "      <th>rate</th>\n",
       "      <th>...</th>\n",
       "      <th>ct_dst_sport_ltm</th>\n",
       "      <th>ct_dst_src_ltm</th>\n",
       "      <th>is_ftp_login</th>\n",
       "      <th>ct_ftp_cmd</th>\n",
       "      <th>ct_flw_http_mthd</th>\n",
       "      <th>ct_src_ltm</th>\n",
       "      <th>ct_srv_dst</th>\n",
       "      <th>is_sm_ips_ports</th>\n",
       "      <th>attack_cat</th>\n",
       "      <th>label</th>\n",
       "    </tr>\n",
       "  </thead>\n",
       "  <tbody>\n",
       "    <tr>\n",
       "      <th>0</th>\n",
       "      <td>1</td>\n",
       "      <td>0.000011</td>\n",
       "      <td>udp</td>\n",
       "      <td>-</td>\n",
       "      <td>INT</td>\n",
       "      <td>2</td>\n",
       "      <td>0</td>\n",
       "      <td>496</td>\n",
       "      <td>0</td>\n",
       "      <td>90909.0902</td>\n",
       "      <td>...</td>\n",
       "      <td>1</td>\n",
       "      <td>2</td>\n",
       "      <td>0</td>\n",
       "      <td>0</td>\n",
       "      <td>0</td>\n",
       "      <td>1</td>\n",
       "      <td>2</td>\n",
       "      <td>0</td>\n",
       "      <td>Normal</td>\n",
       "      <td>0</td>\n",
       "    </tr>\n",
       "    <tr>\n",
       "      <th>1</th>\n",
       "      <td>2</td>\n",
       "      <td>0.000008</td>\n",
       "      <td>udp</td>\n",
       "      <td>-</td>\n",
       "      <td>INT</td>\n",
       "      <td>2</td>\n",
       "      <td>0</td>\n",
       "      <td>1762</td>\n",
       "      <td>0</td>\n",
       "      <td>125000.0003</td>\n",
       "      <td>...</td>\n",
       "      <td>1</td>\n",
       "      <td>2</td>\n",
       "      <td>0</td>\n",
       "      <td>0</td>\n",
       "      <td>0</td>\n",
       "      <td>1</td>\n",
       "      <td>2</td>\n",
       "      <td>0</td>\n",
       "      <td>Normal</td>\n",
       "      <td>0</td>\n",
       "    </tr>\n",
       "    <tr>\n",
       "      <th>2</th>\n",
       "      <td>3</td>\n",
       "      <td>0.000005</td>\n",
       "      <td>udp</td>\n",
       "      <td>-</td>\n",
       "      <td>INT</td>\n",
       "      <td>2</td>\n",
       "      <td>0</td>\n",
       "      <td>1068</td>\n",
       "      <td>0</td>\n",
       "      <td>200000.0051</td>\n",
       "      <td>...</td>\n",
       "      <td>1</td>\n",
       "      <td>3</td>\n",
       "      <td>0</td>\n",
       "      <td>0</td>\n",
       "      <td>0</td>\n",
       "      <td>1</td>\n",
       "      <td>3</td>\n",
       "      <td>0</td>\n",
       "      <td>Normal</td>\n",
       "      <td>0</td>\n",
       "    </tr>\n",
       "    <tr>\n",
       "      <th>3</th>\n",
       "      <td>4</td>\n",
       "      <td>0.000006</td>\n",
       "      <td>udp</td>\n",
       "      <td>-</td>\n",
       "      <td>INT</td>\n",
       "      <td>2</td>\n",
       "      <td>0</td>\n",
       "      <td>900</td>\n",
       "      <td>0</td>\n",
       "      <td>166666.6608</td>\n",
       "      <td>...</td>\n",
       "      <td>1</td>\n",
       "      <td>3</td>\n",
       "      <td>0</td>\n",
       "      <td>0</td>\n",
       "      <td>0</td>\n",
       "      <td>2</td>\n",
       "      <td>3</td>\n",
       "      <td>0</td>\n",
       "      <td>Normal</td>\n",
       "      <td>0</td>\n",
       "    </tr>\n",
       "    <tr>\n",
       "      <th>4</th>\n",
       "      <td>5</td>\n",
       "      <td>0.000010</td>\n",
       "      <td>udp</td>\n",
       "      <td>-</td>\n",
       "      <td>INT</td>\n",
       "      <td>2</td>\n",
       "      <td>0</td>\n",
       "      <td>2126</td>\n",
       "      <td>0</td>\n",
       "      <td>100000.0025</td>\n",
       "      <td>...</td>\n",
       "      <td>1</td>\n",
       "      <td>3</td>\n",
       "      <td>0</td>\n",
       "      <td>0</td>\n",
       "      <td>0</td>\n",
       "      <td>2</td>\n",
       "      <td>3</td>\n",
       "      <td>0</td>\n",
       "      <td>Normal</td>\n",
       "      <td>0</td>\n",
       "    </tr>\n",
       "  </tbody>\n",
       "</table>\n",
       "<p>5 rows × 45 columns</p>\n",
       "</div>"
      ],
      "text/plain": [
       "   id       dur proto service state  spkts  dpkts  sbytes  dbytes  \\\n",
       "0   1  0.000011   udp       -   INT      2      0     496       0   \n",
       "1   2  0.000008   udp       -   INT      2      0    1762       0   \n",
       "2   3  0.000005   udp       -   INT      2      0    1068       0   \n",
       "3   4  0.000006   udp       -   INT      2      0     900       0   \n",
       "4   5  0.000010   udp       -   INT      2      0    2126       0   \n",
       "\n",
       "          rate  ...  ct_dst_sport_ltm  ct_dst_src_ltm  is_ftp_login  \\\n",
       "0   90909.0902  ...                 1               2             0   \n",
       "1  125000.0003  ...                 1               2             0   \n",
       "2  200000.0051  ...                 1               3             0   \n",
       "3  166666.6608  ...                 1               3             0   \n",
       "4  100000.0025  ...                 1               3             0   \n",
       "\n",
       "   ct_ftp_cmd  ct_flw_http_mthd  ct_src_ltm  ct_srv_dst  is_sm_ips_ports  \\\n",
       "0           0                 0           1           2                0   \n",
       "1           0                 0           1           2                0   \n",
       "2           0                 0           1           3                0   \n",
       "3           0                 0           2           3                0   \n",
       "4           0                 0           2           3                0   \n",
       "\n",
       "   attack_cat  label  \n",
       "0      Normal      0  \n",
       "1      Normal      0  \n",
       "2      Normal      0  \n",
       "3      Normal      0  \n",
       "4      Normal      0  \n",
       "\n",
       "[5 rows x 45 columns]"
      ]
     },
     "execution_count": 1,
     "metadata": {},
     "output_type": "execute_result"
    }
   ],
   "source": [
    "import pandas as pd\n",
    "import numpy as np\n",
    "import seaborn as sns\n",
    "import matplotlib.pyplot as plt\n",
    "train = pd.read_csv('../input/unsw-nb15/UNSW_NB15_training-set.csv')\n",
    "train.head()\n"
   ]
  },
  {
   "cell_type": "code",
   "execution_count": 2,
   "id": "strange-spectacular",
   "metadata": {
    "execution": {
     "iopub.execute_input": "2021-05-16T12:59:45.802723Z",
     "iopub.status.busy": "2021-05-16T12:59:45.802115Z",
     "iopub.status.idle": "2021-05-16T12:59:47.246862Z",
     "shell.execute_reply": "2021-05-16T12:59:47.247358Z"
    },
    "papermill": {
     "duration": 1.488714,
     "end_time": "2021-05-16T12:59:47.247532",
     "exception": false,
     "start_time": "2021-05-16T12:59:45.758818",
     "status": "completed"
    },
    "tags": []
   },
   "outputs": [
    {
     "data": {
      "text/plain": [
       "<AxesSubplot:>"
      ]
     },
     "execution_count": 2,
     "metadata": {},
     "output_type": "execute_result"
    },
    {
     "data": {
      "image/png": "[encoded data removed]",
      "text/plain": [
       "<Figure size 1080x1080 with 2 Axes>"
      ]
     },
     "metadata": {
      "needs_background": "light"
     },
     "output_type": "display_data"
    }
   ],
   "source": [
    "# correlation matrix\n",
    "corr_mat = train.corr() \n",
    "fig, ax = plt.subplots(figsize=(15,15))\n",
    "sns.heatmap(corr_mat, center=0,ax=ax)"
   ]
  },
  {
   "cell_type": "code",
   "execution_count": 3,
   "id": "super-publisher",
   "metadata": {
    "execution": {
     "iopub.execute_input": "2021-05-16T12:59:47.328193Z",
     "iopub.status.busy": "2021-05-16T12:59:47.327643Z",
     "iopub.status.idle": "2021-05-16T12:59:47.363094Z",
     "shell.execute_reply": "2021-05-16T12:59:47.362561Z"
    },
    "papermill": {
     "duration": 0.076626,
     "end_time": "2021-05-16T12:59:47.363220",
     "exception": false,
     "start_time": "2021-05-16T12:59:47.286594",
     "status": "completed"
    },
    "tags": []
   },
   "outputs": [
    {
     "name": "stdout",
     "output_type": "stream",
     "text": [
      "Percentage correlation is\n",
      "spkts                sbytes               96.57497410287415\n",
      "spkts                sloss                97.36439932787799\n",
      "dpkts                dbytes               97.64185516958216\n",
      "dpkts                dloss                98.15064328008421\n",
      "sbytes               sloss                99.502719113184\n",
      "dbytes               dloss                99.71088501020647\n",
      "sinpkt               is_sm_ips_ports      94.45057600994802\n",
      "swin                 dwin                 96.01246970559345\n",
      "tcprtt               synack               93.94732071062887\n",
      "ct_srv_src           ct_dst_src_ltm       93.37952137616566\n",
      "ct_srv_src           ct_srv_dst           97.78491535974652\n",
      "ct_dst_ltm           ct_src_dport_ltm     96.04008284955233\n",
      "ct_dst_ltm           ct_src_ltm           93.22524473427765\n",
      "ct_src_dport_ltm     ct_dst_sport_ltm     91.16374681078989\n",
      "ct_src_dport_ltm     ct_src_ltm           93.31720623302827\n",
      "ct_dst_src_ltm       ct_srv_dst           94.10468630509295\n",
      "is_ftp_login         ct_ftp_cmd           99.43410042026886\n"
     ]
    }
   ],
   "source": [
    "columns = corr_mat.columns\n",
    "print(\"Percentage correlation is\")\n",
    "for i in range(corr_mat.shape[0]):\n",
    "    for j in range(i+1, corr_mat.shape[0]):\n",
    "        if corr_mat.iloc[i, j] >= 0.9:\n",
    "            print(f\"{columns[i]:20s} {columns[j]:20s} {(corr_mat.iloc[i, j])*100}\")\n"
   ]
  },
  {
   "cell_type": "code",
   "execution_count": 4,
   "id": "finished-serum",
   "metadata": {
    "execution": {
     "iopub.execute_input": "2021-05-16T12:59:47.451063Z",
     "iopub.status.busy": "2021-05-16T12:59:47.450093Z",
     "iopub.status.idle": "2021-05-16T13:11:10.527164Z",
     "shell.execute_reply": "2021-05-16T13:11:10.527676Z"
    },
    "papermill": {
     "duration": 683.12378,
     "end_time": "2021-05-16T13:11:10.527857",
     "exception": false,
     "start_time": "2021-05-16T12:59:47.404077",
     "status": "completed"
    },
    "tags": []
   },
   "outputs": [
    {
     "data": {
      "image/png": "[encoded data removed]",
      "text/plain": [
       "<Figure size 360x360 with 6 Axes>"
      ]
     },
     "metadata": {
      "needs_background": "light"
     },
     "output_type": "display_data"
    }
   ],
   "source": [
    "#sns.set_style(\"whitegrid\")\n",
    "sns.pairplot(data=train, vars=['sbytes', 'sloss'])\n",
    "plt.show()"
   ]
  },
  {
   "cell_type": "code",
   "execution_count": 5,
   "id": "charged-zoning",
   "metadata": {
    "execution": {
     "iopub.execute_input": "2021-05-16T13:11:10.623180Z",
     "iopub.status.busy": "2021-05-16T13:11:10.622221Z",
     "iopub.status.idle": "2021-05-16T13:11:11.816685Z",
     "shell.execute_reply": "2021-05-16T13:11:11.816012Z"
    },
    "papermill": {
     "duration": 1.243671,
     "end_time": "2021-05-16T13:11:11.816860",
     "exception": false,
     "start_time": "2021-05-16T13:11:10.573189",
     "status": "completed"
    },
    "tags": []
   },
   "outputs": [],
   "source": [
    "test = pd.read_csv(\"../input/unsw-nb15/UNSW_NB15_testing-set.csv\")"
   ]
  },
  {
   "cell_type": "code",
   "execution_count": 6,
   "id": "timely-integral",
   "metadata": {
    "execution": {
     "iopub.execute_input": "2021-05-16T13:11:11.912457Z",
     "iopub.status.busy": "2021-05-16T13:11:11.911596Z",
     "iopub.status.idle": "2021-05-16T13:11:11.915260Z",
     "shell.execute_reply": "2021-05-16T13:11:11.915719Z"
    },
    "papermill": {
     "duration": 0.054248,
     "end_time": "2021-05-16T13:11:11.915883",
     "exception": false,
     "start_time": "2021-05-16T13:11:11.861635",
     "status": "completed"
    },
    "tags": []
   },
   "outputs": [
    {
     "data": {
      "text/plain": [
       "((82332, 45), (175341, 45))"
      ]
     },
     "execution_count": 6,
     "metadata": {},
     "output_type": "execute_result"
    }
   ],
   "source": [
    "train.shape,test.shape"
   ]
  },
  {
   "cell_type": "markdown",
   "id": "cleared-pearl",
   "metadata": {
    "papermill": {
     "duration": 0.045259,
     "end_time": "2021-05-16T13:11:12.006302",
     "exception": false,
     "start_time": "2021-05-16T13:11:11.961043",
     "status": "completed"
    },
    "tags": []
   },
   "source": [
    "## Dataset summary"
   ]
  },
  {
   "cell_type": "code",
   "execution_count": 7,
   "id": "ambient-chancellor",
   "metadata": {
    "execution": {
     "iopub.execute_input": "2021-05-16T13:11:12.102449Z",
     "iopub.status.busy": "2021-05-16T13:11:12.101549Z",
     "iopub.status.idle": "2021-05-16T13:11:12.104755Z",
     "shell.execute_reply": "2021-05-16T13:11:12.105251Z"
    },
    "papermill": {
     "duration": 0.054198,
     "end_time": "2021-05-16T13:11:12.105428",
     "exception": false,
     "start_time": "2021-05-16T13:11:12.051230",
     "status": "completed"
    },
    "tags": []
   },
   "outputs": [
    {
     "name": "stdout",
     "output_type": "stream",
     "text": [
      "Train and test sets are interchanged. Setting it correct.\n"
     ]
    }
   ],
   "source": [
    "if train.shape[0]<100000:\n",
    "    print(\"Train and test sets are interchanged. Setting it correct.\")\n",
    "    train, test = test, train"
   ]
  },
  {
   "cell_type": "code",
   "execution_count": 8,
   "id": "expanded-space",
   "metadata": {
    "execution": {
     "iopub.execute_input": "2021-05-16T13:11:12.208469Z",
     "iopub.status.busy": "2021-05-16T13:11:12.207375Z",
     "iopub.status.idle": "2021-05-16T13:11:12.235875Z",
     "shell.execute_reply": "2021-05-16T13:11:12.235269Z"
    },
    "papermill": {
     "duration": 0.084519,
     "end_time": "2021-05-16T13:11:12.236004",
     "exception": false,
     "start_time": "2021-05-16T13:11:12.151485",
     "status": "completed"
    },
    "tags": []
   },
   "outputs": [
    {
     "data": {
      "text/html": [
       "<div>\n",
       "<style scoped>\n",
       "    .dataframe tbody tr th:only-of-type {\n",
       "        vertical-align: middle;\n",
       "    }\n",
       "\n",
       "    .dataframe tbody tr th {\n",
       "        vertical-align: top;\n",
       "    }\n",
       "\n",
       "    .dataframe thead th {\n",
       "        text-align: right;\n",
       "    }\n",
       "</style>\n",
       "<table border=\"1\" class=\"dataframe\">\n",
       "  <thead>\n",
       "    <tr style=\"text-align: right;\">\n",
       "      <th></th>\n",
       "      <th>id</th>\n",
       "      <th>dur</th>\n",
       "      <th>proto</th>\n",
       "      <th>service</th>\n",
       "      <th>state</th>\n",
       "      <th>spkts</th>\n",
       "      <th>dpkts</th>\n",
       "      <th>sbytes</th>\n",
       "      <th>dbytes</th>\n",
       "      <th>rate</th>\n",
       "      <th>...</th>\n",
       "      <th>ct_dst_sport_ltm</th>\n",
       "      <th>ct_dst_src_ltm</th>\n",
       "      <th>is_ftp_login</th>\n",
       "      <th>ct_ftp_cmd</th>\n",
       "      <th>ct_flw_http_mthd</th>\n",
       "      <th>ct_src_ltm</th>\n",
       "      <th>ct_srv_dst</th>\n",
       "      <th>is_sm_ips_ports</th>\n",
       "      <th>attack_cat</th>\n",
       "      <th>label</th>\n",
       "    </tr>\n",
       "  </thead>\n",
       "  <tbody>\n",
       "    <tr>\n",
       "      <th>90752</th>\n",
       "      <td>90753</td>\n",
       "      <td>0.806381</td>\n",
       "      <td>tcp</td>\n",
       "      <td>http</td>\n",
       "      <td>FIN</td>\n",
       "      <td>10</td>\n",
       "      <td>8</td>\n",
       "      <td>758</td>\n",
       "      <td>354</td>\n",
       "      <td>21.081846</td>\n",
       "      <td>...</td>\n",
       "      <td>1</td>\n",
       "      <td>5</td>\n",
       "      <td>0</td>\n",
       "      <td>0</td>\n",
       "      <td>1</td>\n",
       "      <td>2</td>\n",
       "      <td>5</td>\n",
       "      <td>0</td>\n",
       "      <td>Fuzzers</td>\n",
       "      <td>1</td>\n",
       "    </tr>\n",
       "    <tr>\n",
       "      <th>121567</th>\n",
       "      <td>121568</td>\n",
       "      <td>0.000009</td>\n",
       "      <td>mfe-nsp</td>\n",
       "      <td>-</td>\n",
       "      <td>INT</td>\n",
       "      <td>2</td>\n",
       "      <td>0</td>\n",
       "      <td>200</td>\n",
       "      <td>0</td>\n",
       "      <td>111111.107200</td>\n",
       "      <td>...</td>\n",
       "      <td>1</td>\n",
       "      <td>4</td>\n",
       "      <td>0</td>\n",
       "      <td>0</td>\n",
       "      <td>0</td>\n",
       "      <td>3</td>\n",
       "      <td>4</td>\n",
       "      <td>0</td>\n",
       "      <td>Exploits</td>\n",
       "      <td>1</td>\n",
       "    </tr>\n",
       "    <tr>\n",
       "      <th>112235</th>\n",
       "      <td>112236</td>\n",
       "      <td>0.000010</td>\n",
       "      <td>unas</td>\n",
       "      <td>-</td>\n",
       "      <td>INT</td>\n",
       "      <td>2</td>\n",
       "      <td>0</td>\n",
       "      <td>200</td>\n",
       "      <td>0</td>\n",
       "      <td>100000.002500</td>\n",
       "      <td>...</td>\n",
       "      <td>6</td>\n",
       "      <td>8</td>\n",
       "      <td>0</td>\n",
       "      <td>0</td>\n",
       "      <td>0</td>\n",
       "      <td>7</td>\n",
       "      <td>8</td>\n",
       "      <td>0</td>\n",
       "      <td>DoS</td>\n",
       "      <td>1</td>\n",
       "    </tr>\n",
       "    <tr>\n",
       "      <th>170430</th>\n",
       "      <td>170431</td>\n",
       "      <td>0.000007</td>\n",
       "      <td>udp</td>\n",
       "      <td>dns</td>\n",
       "      <td>INT</td>\n",
       "      <td>2</td>\n",
       "      <td>0</td>\n",
       "      <td>114</td>\n",
       "      <td>0</td>\n",
       "      <td>142857.140900</td>\n",
       "      <td>...</td>\n",
       "      <td>12</td>\n",
       "      <td>15</td>\n",
       "      <td>0</td>\n",
       "      <td>0</td>\n",
       "      <td>0</td>\n",
       "      <td>12</td>\n",
       "      <td>15</td>\n",
       "      <td>0</td>\n",
       "      <td>Generic</td>\n",
       "      <td>1</td>\n",
       "    </tr>\n",
       "    <tr>\n",
       "      <th>89749</th>\n",
       "      <td>89750</td>\n",
       "      <td>0.000005</td>\n",
       "      <td>wb-expak</td>\n",
       "      <td>-</td>\n",
       "      <td>INT</td>\n",
       "      <td>2</td>\n",
       "      <td>0</td>\n",
       "      <td>200</td>\n",
       "      <td>0</td>\n",
       "      <td>200000.005100</td>\n",
       "      <td>...</td>\n",
       "      <td>5</td>\n",
       "      <td>17</td>\n",
       "      <td>0</td>\n",
       "      <td>0</td>\n",
       "      <td>0</td>\n",
       "      <td>6</td>\n",
       "      <td>12</td>\n",
       "      <td>0</td>\n",
       "      <td>DoS</td>\n",
       "      <td>1</td>\n",
       "    </tr>\n",
       "    <tr>\n",
       "      <th>29148</th>\n",
       "      <td>29149</td>\n",
       "      <td>0.130899</td>\n",
       "      <td>tcp</td>\n",
       "      <td>-</td>\n",
       "      <td>FIN</td>\n",
       "      <td>48</td>\n",
       "      <td>50</td>\n",
       "      <td>2958</td>\n",
       "      <td>32642</td>\n",
       "      <td>741.029359</td>\n",
       "      <td>...</td>\n",
       "      <td>1</td>\n",
       "      <td>1</td>\n",
       "      <td>0</td>\n",
       "      <td>0</td>\n",
       "      <td>0</td>\n",
       "      <td>2</td>\n",
       "      <td>5</td>\n",
       "      <td>0</td>\n",
       "      <td>Normal</td>\n",
       "      <td>0</td>\n",
       "    </tr>\n",
       "    <tr>\n",
       "      <th>117656</th>\n",
       "      <td>117657</td>\n",
       "      <td>56.052166</td>\n",
       "      <td>udp</td>\n",
       "      <td>dns</td>\n",
       "      <td>REQ</td>\n",
       "      <td>50</td>\n",
       "      <td>0</td>\n",
       "      <td>9200</td>\n",
       "      <td>0</td>\n",
       "      <td>0.874186</td>\n",
       "      <td>...</td>\n",
       "      <td>8</td>\n",
       "      <td>8</td>\n",
       "      <td>0</td>\n",
       "      <td>0</td>\n",
       "      <td>0</td>\n",
       "      <td>8</td>\n",
       "      <td>8</td>\n",
       "      <td>0</td>\n",
       "      <td>Fuzzers</td>\n",
       "      <td>1</td>\n",
       "    </tr>\n",
       "    <tr>\n",
       "      <th>171510</th>\n",
       "      <td>171511</td>\n",
       "      <td>0.000008</td>\n",
       "      <td>udp</td>\n",
       "      <td>dns</td>\n",
       "      <td>INT</td>\n",
       "      <td>2</td>\n",
       "      <td>0</td>\n",
       "      <td>114</td>\n",
       "      <td>0</td>\n",
       "      <td>125000.000300</td>\n",
       "      <td>...</td>\n",
       "      <td>17</td>\n",
       "      <td>26</td>\n",
       "      <td>0</td>\n",
       "      <td>0</td>\n",
       "      <td>0</td>\n",
       "      <td>17</td>\n",
       "      <td>26</td>\n",
       "      <td>0</td>\n",
       "      <td>Generic</td>\n",
       "      <td>1</td>\n",
       "    </tr>\n",
       "    <tr>\n",
       "      <th>119425</th>\n",
       "      <td>119426</td>\n",
       "      <td>2.990860</td>\n",
       "      <td>tcp</td>\n",
       "      <td>smtp</td>\n",
       "      <td>FIN</td>\n",
       "      <td>20</td>\n",
       "      <td>22</td>\n",
       "      <td>1926</td>\n",
       "      <td>1834</td>\n",
       "      <td>13.708432</td>\n",
       "      <td>...</td>\n",
       "      <td>1</td>\n",
       "      <td>1</td>\n",
       "      <td>0</td>\n",
       "      <td>0</td>\n",
       "      <td>0</td>\n",
       "      <td>3</td>\n",
       "      <td>1</td>\n",
       "      <td>0</td>\n",
       "      <td>Exploits</td>\n",
       "      <td>1</td>\n",
       "    </tr>\n",
       "    <tr>\n",
       "      <th>38191</th>\n",
       "      <td>38192</td>\n",
       "      <td>0.001066</td>\n",
       "      <td>udp</td>\n",
       "      <td>dns</td>\n",
       "      <td>CON</td>\n",
       "      <td>2</td>\n",
       "      <td>2</td>\n",
       "      <td>130</td>\n",
       "      <td>162</td>\n",
       "      <td>2814.258996</td>\n",
       "      <td>...</td>\n",
       "      <td>1</td>\n",
       "      <td>3</td>\n",
       "      <td>0</td>\n",
       "      <td>0</td>\n",
       "      <td>0</td>\n",
       "      <td>1</td>\n",
       "      <td>1</td>\n",
       "      <td>0</td>\n",
       "      <td>Normal</td>\n",
       "      <td>0</td>\n",
       "    </tr>\n",
       "  </tbody>\n",
       "</table>\n",
       "<p>10 rows × 45 columns</p>\n",
       "</div>"
      ],
      "text/plain": [
       "            id        dur     proto service state  spkts  dpkts  sbytes  \\\n",
       "90752    90753   0.806381       tcp    http   FIN     10      8     758   \n",
       "121567  121568   0.000009   mfe-nsp       -   INT      2      0     200   \n",
       "112235  112236   0.000010      unas       -   INT      2      0     200   \n",
       "170430  170431   0.000007       udp     dns   INT      2      0     114   \n",
       "89749    89750   0.000005  wb-expak       -   INT      2      0     200   \n",
       "29148    29149   0.130899       tcp       -   FIN     48     50    2958   \n",
       "117656  117657  56.052166       udp     dns   REQ     50      0    9200   \n",
       "171510  171511   0.000008       udp     dns   INT      2      0     114   \n",
       "119425  119426   2.990860       tcp    smtp   FIN     20     22    1926   \n",
       "38191    38192   0.001066       udp     dns   CON      2      2     130   \n",
       "\n",
       "        dbytes           rate  ...  ct_dst_sport_ltm  ct_dst_src_ltm  \\\n",
       "90752      354      21.081846  ...                 1               5   \n",
       "121567       0  111111.107200  ...                 1               4   \n",
       "112235       0  100000.002500  ...                 6               8   \n",
       "170430       0  142857.140900  ...                12              15   \n",
       "89749        0  200000.005100  ...                 5              17   \n",
       "29148    32642     741.029359  ...                 1               1   \n",
       "117656       0       0.874186  ...                 8               8   \n",
       "171510       0  125000.000300  ...                17              26   \n",
       "119425    1834      13.708432  ...                 1               1   \n",
       "38191      162    2814.258996  ...                 1               3   \n",
       "\n",
       "        is_ftp_login  ct_ftp_cmd  ct_flw_http_mthd  ct_src_ltm  ct_srv_dst  \\\n",
       "90752              0           0                 1           2           5   \n",
       "121567             0           0                 0           3           4   \n",
       "112235             0           0                 0           7           8   \n",
       "170430             0           0                 0          12          15   \n",
       "89749              0           0                 0           6          12   \n",
       "29148              0           0                 0           2           5   \n",
       "117656             0           0                 0           8           8   \n",
       "171510             0           0                 0          17          26   \n",
       "119425             0           0                 0           3           1   \n",
       "38191              0           0                 0           1           1   \n",
       "\n",
       "        is_sm_ips_ports  attack_cat  label  \n",
       "90752                 0     Fuzzers      1  \n",
       "121567                0    Exploits      1  \n",
       "112235                0         DoS      1  \n",
       "170430                0     Generic      1  \n",
       "89749                 0         DoS      1  \n",
       "29148                 0      Normal      0  \n",
       "117656                0     Fuzzers      1  \n",
       "171510                0     Generic      1  \n",
       "119425                0    Exploits      1  \n",
       "38191                 0      Normal      0  \n",
       "\n",
       "[10 rows x 45 columns]"
      ]
     },
     "execution_count": 8,
     "metadata": {},
     "output_type": "execute_result"
    }
   ],
   "source": [
    "train.sample(10)"
   ]
  },
  {
   "cell_type": "code",
   "execution_count": 9,
   "id": "abroad-journal",
   "metadata": {
    "execution": {
     "iopub.execute_input": "2021-05-16T13:11:12.350446Z",
     "iopub.status.busy": "2021-05-16T13:11:12.346270Z",
     "iopub.status.idle": "2021-05-16T13:11:48.972455Z",
     "shell.execute_reply": "2021-05-16T13:11:48.972953Z"
    },
    "papermill": {
     "duration": 36.69071,
     "end_time": "2021-05-16T13:11:48.973137",
     "exception": false,
     "start_time": "2021-05-16T13:11:12.282427",
     "status": "completed"
    },
    "tags": []
   },
   "outputs": [
    {
     "data": {
      "text/html": [
       "<div>\n",
       "<style scoped>\n",
       "    .dataframe tbody tr th:only-of-type {\n",
       "        vertical-align: middle;\n",
       "    }\n",
       "\n",
       "    .dataframe tbody tr th {\n",
       "        vertical-align: top;\n",
       "    }\n",
       "\n",
       "    .dataframe thead th {\n",
       "        text-align: right;\n",
       "    }\n",
       "</style>\n",
       "<table border=\"1\" class=\"dataframe\">\n",
       "  <thead>\n",
       "    <tr style=\"text-align: right;\">\n",
       "      <th></th>\n",
       "      <th>id</th>\n",
       "      <th>dur</th>\n",
       "      <th>spkts</th>\n",
       "      <th>dpkts</th>\n",
       "      <th>sbytes</th>\n",
       "      <th>dbytes</th>\n",
       "      <th>rate</th>\n",
       "      <th>sttl</th>\n",
       "      <th>dttl</th>\n",
       "      <th>sload</th>\n",
       "      <th>...</th>\n",
       "      <th>ct_src_dport_ltm</th>\n",
       "      <th>ct_dst_sport_ltm</th>\n",
       "      <th>ct_dst_src_ltm</th>\n",
       "      <th>is_ftp_login</th>\n",
       "      <th>ct_ftp_cmd</th>\n",
       "      <th>ct_flw_http_mthd</th>\n",
       "      <th>ct_src_ltm</th>\n",
       "      <th>ct_srv_dst</th>\n",
       "      <th>is_sm_ips_ports</th>\n",
       "      <th>label</th>\n",
       "    </tr>\n",
       "  </thead>\n",
       "  <tbody>\n",
       "    <tr>\n",
       "      <th>count</th>\n",
       "      <td>175341.000000</td>\n",
       "      <td>175341.000000</td>\n",
       "      <td>175341.000000</td>\n",
       "      <td>175341.000000</td>\n",
       "      <td>1.753410e+05</td>\n",
       "      <td>1.753410e+05</td>\n",
       "      <td>1.753410e+05</td>\n",
       "      <td>175341.000000</td>\n",
       "      <td>175341.000000</td>\n",
       "      <td>1.753410e+05</td>\n",
       "      <td>...</td>\n",
       "      <td>175341.000000</td>\n",
       "      <td>175341.000000</td>\n",
       "      <td>175341.000000</td>\n",
       "      <td>175341.000000</td>\n",
       "      <td>175341.000000</td>\n",
       "      <td>175341.000000</td>\n",
       "      <td>175341.000000</td>\n",
       "      <td>175341.000000</td>\n",
       "      <td>175341.000000</td>\n",
       "      <td>175341.000000</td>\n",
       "    </tr>\n",
       "    <tr>\n",
       "      <th>mean</th>\n",
       "      <td>87671.000000</td>\n",
       "      <td>1.359389</td>\n",
       "      <td>20.298664</td>\n",
       "      <td>18.969591</td>\n",
       "      <td>8.844844e+03</td>\n",
       "      <td>1.492892e+04</td>\n",
       "      <td>9.540619e+04</td>\n",
       "      <td>179.546997</td>\n",
       "      <td>79.609567</td>\n",
       "      <td>7.345403e+07</td>\n",
       "      <td>...</td>\n",
       "      <td>5.383538</td>\n",
       "      <td>4.206255</td>\n",
       "      <td>8.729881</td>\n",
       "      <td>0.014948</td>\n",
       "      <td>0.014948</td>\n",
       "      <td>0.133066</td>\n",
       "      <td>6.955789</td>\n",
       "      <td>9.100758</td>\n",
       "      <td>0.015752</td>\n",
       "      <td>0.680622</td>\n",
       "    </tr>\n",
       "    <tr>\n",
       "      <th>std</th>\n",
       "      <td>50616.731112</td>\n",
       "      <td>6.480249</td>\n",
       "      <td>136.887597</td>\n",
       "      <td>110.258271</td>\n",
       "      <td>1.747656e+05</td>\n",
       "      <td>1.436542e+05</td>\n",
       "      <td>1.654010e+05</td>\n",
       "      <td>102.940011</td>\n",
       "      <td>110.506863</td>\n",
       "      <td>1.883574e+08</td>\n",
       "      <td>...</td>\n",
       "      <td>8.047104</td>\n",
       "      <td>5.783585</td>\n",
       "      <td>10.956186</td>\n",
       "      <td>0.126048</td>\n",
       "      <td>0.126048</td>\n",
       "      <td>0.701208</td>\n",
       "      <td>8.321493</td>\n",
       "      <td>10.756952</td>\n",
       "      <td>0.124516</td>\n",
       "      <td>0.466237</td>\n",
       "    </tr>\n",
       "    <tr>\n",
       "      <th>min</th>\n",
       "      <td>1.000000</td>\n",
       "      <td>0.000000</td>\n",
       "      <td>1.000000</td>\n",
       "      <td>0.000000</td>\n",
       "      <td>2.800000e+01</td>\n",
       "      <td>0.000000e+00</td>\n",
       "      <td>0.000000e+00</td>\n",
       "      <td>0.000000</td>\n",
       "      <td>0.000000</td>\n",
       "      <td>0.000000e+00</td>\n",
       "      <td>...</td>\n",
       "      <td>1.000000</td>\n",
       "      <td>1.000000</td>\n",
       "      <td>1.000000</td>\n",
       "      <td>0.000000</td>\n",
       "      <td>0.000000</td>\n",
       "      <td>0.000000</td>\n",
       "      <td>1.000000</td>\n",
       "      <td>1.000000</td>\n",
       "      <td>0.000000</td>\n",
       "      <td>0.000000</td>\n",
       "    </tr>\n",
       "    <tr>\n",
       "      <th>25%</th>\n",
       "      <td>43836.000000</td>\n",
       "      <td>0.000008</td>\n",
       "      <td>2.000000</td>\n",
       "      <td>0.000000</td>\n",
       "      <td>1.140000e+02</td>\n",
       "      <td>0.000000e+00</td>\n",
       "      <td>3.278614e+01</td>\n",
       "      <td>62.000000</td>\n",
       "      <td>0.000000</td>\n",
       "      <td>1.305334e+04</td>\n",
       "      <td>...</td>\n",
       "      <td>1.000000</td>\n",
       "      <td>1.000000</td>\n",
       "      <td>1.000000</td>\n",
       "      <td>0.000000</td>\n",
       "      <td>0.000000</td>\n",
       "      <td>0.000000</td>\n",
       "      <td>2.000000</td>\n",
       "      <td>2.000000</td>\n",
       "      <td>0.000000</td>\n",
       "      <td>0.000000</td>\n",
       "    </tr>\n",
       "    <tr>\n",
       "      <th>50%</th>\n",
       "      <td>87671.000000</td>\n",
       "      <td>0.001582</td>\n",
       "      <td>2.000000</td>\n",
       "      <td>2.000000</td>\n",
       "      <td>4.300000e+02</td>\n",
       "      <td>1.640000e+02</td>\n",
       "      <td>3.225807e+03</td>\n",
       "      <td>254.000000</td>\n",
       "      <td>29.000000</td>\n",
       "      <td>8.796748e+05</td>\n",
       "      <td>...</td>\n",
       "      <td>1.000000</td>\n",
       "      <td>1.000000</td>\n",
       "      <td>3.000000</td>\n",
       "      <td>0.000000</td>\n",
       "      <td>0.000000</td>\n",
       "      <td>0.000000</td>\n",
       "      <td>3.000000</td>\n",
       "      <td>4.000000</td>\n",
       "      <td>0.000000</td>\n",
       "      <td>1.000000</td>\n",
       "    </tr>\n",
       "    <tr>\n",
       "      <th>75%</th>\n",
       "      <td>131506.000000</td>\n",
       "      <td>0.668069</td>\n",
       "      <td>12.000000</td>\n",
       "      <td>10.000000</td>\n",
       "      <td>1.418000e+03</td>\n",
       "      <td>1.102000e+03</td>\n",
       "      <td>1.250000e+05</td>\n",
       "      <td>254.000000</td>\n",
       "      <td>252.000000</td>\n",
       "      <td>8.888889e+07</td>\n",
       "      <td>...</td>\n",
       "      <td>5.000000</td>\n",
       "      <td>3.000000</td>\n",
       "      <td>12.000000</td>\n",
       "      <td>0.000000</td>\n",
       "      <td>0.000000</td>\n",
       "      <td>0.000000</td>\n",
       "      <td>9.000000</td>\n",
       "      <td>12.000000</td>\n",
       "      <td>0.000000</td>\n",
       "      <td>1.000000</td>\n",
       "    </tr>\n",
       "    <tr>\n",
       "      <th>max</th>\n",
       "      <td>175341.000000</td>\n",
       "      <td>59.999989</td>\n",
       "      <td>9616.000000</td>\n",
       "      <td>10974.000000</td>\n",
       "      <td>1.296523e+07</td>\n",
       "      <td>1.465555e+07</td>\n",
       "      <td>1.000000e+06</td>\n",
       "      <td>255.000000</td>\n",
       "      <td>254.000000</td>\n",
       "      <td>5.988000e+09</td>\n",
       "      <td>...</td>\n",
       "      <td>51.000000</td>\n",
       "      <td>46.000000</td>\n",
       "      <td>65.000000</td>\n",
       "      <td>4.000000</td>\n",
       "      <td>4.000000</td>\n",
       "      <td>30.000000</td>\n",
       "      <td>60.000000</td>\n",
       "      <td>62.000000</td>\n",
       "      <td>1.000000</td>\n",
       "      <td>1.000000</td>\n",
       "    </tr>\n",
       "  </tbody>\n",
       "</table>\n",
       "<p>8 rows × 41 columns</p>\n",
       "</div>"
      ],
      "text/plain": [
       "                  id            dur          spkts          dpkts  \\\n",
       "count  175341.000000  175341.000000  175341.000000  175341.000000   \n",
       "mean    87671.000000       1.359389      20.298664      18.969591   \n",
       "std     50616.731112       6.480249     136.887597     110.258271   \n",
       "min         1.000000       0.000000       1.000000       0.000000   \n",
       "25%     43836.000000       0.000008       2.000000       0.000000   \n",
       "50%     87671.000000       0.001582       2.000000       2.000000   \n",
       "75%    131506.000000       0.668069      12.000000      10.000000   \n",
       "max    175341.000000      59.999989    9616.000000   10974.000000   \n",
       "\n",
       "             sbytes        dbytes          rate           sttl           dttl  \\\n",
       "count  1.753410e+05  1.753410e+05  1.753410e+05  175341.000000  175341.000000   \n",
       "mean   8.844844e+03  1.492892e+04  9.540619e+04     179.546997      79.609567   \n",
       "std    1.747656e+05  1.436542e+05  1.654010e+05     102.940011     110.506863   \n",
       "min    2.800000e+01  0.000000e+00  0.000000e+00       0.000000       0.000000   \n",
       "25%    1.140000e+02  0.000000e+00  3.278614e+01      62.000000       0.000000   \n",
       "50%    4.300000e+02  1.640000e+02  3.225807e+03     254.000000      29.000000   \n",
       "75%    1.418000e+03  1.102000e+03  1.250000e+05     254.000000     252.000000   \n",
       "max    1.296523e+07  1.465555e+07  1.000000e+06     255.000000     254.000000   \n",
       "\n",
       "              sload  ...  ct_src_dport_ltm  ct_dst_sport_ltm  ct_dst_src_ltm  \\\n",
       "count  1.753410e+05  ...     175341.000000     175341.000000   175341.000000   \n",
       "mean   7.345403e+07  ...          5.383538          4.206255        8.729881   \n",
       "std    1.883574e+08  ...          8.047104          5.783585       10.956186   \n",
       "min    0.000000e+00  ...          1.000000          1.000000        1.000000   \n",
       "25%    1.305334e+04  ...          1.000000          1.000000        1.000000   \n",
       "50%    8.796748e+05  ...          1.000000          1.000000        3.000000   \n",
       "75%    8.888889e+07  ...          5.000000          3.000000       12.000000   \n",
       "max    5.988000e+09  ...         51.000000         46.000000       65.000000   \n",
       "\n",
       "        is_ftp_login     ct_ftp_cmd  ct_flw_http_mthd     ct_src_ltm  \\\n",
       "count  175341.000000  175341.000000     175341.000000  175341.000000   \n",
       "mean        0.014948       0.014948          0.133066       6.955789   \n",
       "std         0.126048       0.126048          0.701208       8.321493   \n",
       "min         0.000000       0.000000          0.000000       1.000000   \n",
       "25%         0.000000       0.000000          0.000000       2.000000   \n",
       "50%         0.000000       0.000000          0.000000       3.000000   \n",
       "75%         0.000000       0.000000          0.000000       9.000000   \n",
       "max         4.000000       4.000000         30.000000      60.000000   \n",
       "\n",
       "          ct_srv_dst  is_sm_ips_ports          label  \n",
       "count  175341.000000    175341.000000  175341.000000  \n",
       "mean        9.100758         0.015752       0.680622  \n",
       "std        10.756952         0.124516       0.466237  \n",
       "min         1.000000         0.000000       0.000000  \n",
       "25%         2.000000         0.000000       0.000000  \n",
       "50%         4.000000         0.000000       1.000000  \n",
       "75%        12.000000         0.000000       1.000000  \n",
       "max        62.000000         1.000000       1.000000  \n",
       "\n",
       "[8 rows x 41 columns]"
      ]
     },
     "execution_count": 9,
     "metadata": {},
     "output_type": "execute_result"
    }
   ],
   "source": [
    "train.describe()"
   ]
  },
  {
   "cell_type": "code",
   "execution_count": 10,
   "id": "verified-greeting",
   "metadata": {
    "execution": {
     "iopub.execute_input": "2021-05-16T13:11:49.074109Z",
     "iopub.status.busy": "2021-05-16T13:11:49.072842Z",
     "iopub.status.idle": "2021-05-16T13:11:49.164880Z",
     "shell.execute_reply": "2021-05-16T13:11:49.164248Z"
    },
    "papermill": {
     "duration": 0.144459,
     "end_time": "2021-05-16T13:11:49.165015",
     "exception": false,
     "start_time": "2021-05-16T13:11:49.020556",
     "status": "completed"
    },
    "tags": []
   },
   "outputs": [
    {
     "name": "stdout",
     "output_type": "stream",
     "text": [
      "<class 'pandas.core.frame.DataFrame'>\n",
      "RangeIndex: 175341 entries, 0 to 175340\n",
      "Data columns (total 45 columns):\n",
      " #   Column             Non-Null Count   Dtype  \n",
      "---  ------             --------------   -----  \n",
      " 0   id                 175341 non-null  int64  \n",
      " 1   dur                175341 non-null  float64\n",
      " 2   proto              175341 non-null  object \n",
      " 3   service            175341 non-null  object \n",
      " 4   state              175341 non-null  object \n",
      " 5   spkts              175341 non-null  int64  \n",
      " 6   dpkts              175341 non-null  int64  \n",
      " 7   sbytes             175341 non-null  int64  \n",
      " 8   dbytes             175341 non-null  int64  \n",
      " 9   rate               175341 non-null  float64\n",
      " 10  sttl               175341 non-null  int64  \n",
      " 11  dttl               175341 non-null  int64  \n",
      " 12  sload              175341 non-null  float64\n",
      " 13  dload              175341 non-null  float64\n",
      " 14  sloss              175341 non-null  int64  \n",
      " 15  dloss              175341 non-null  int64  \n",
      " 16  sinpkt             175341 non-null  float64\n",
      " 17  dinpkt             175341 non-null  float64\n",
      " 18  sjit               175341 non-null  float64\n",
      " 19  djit               175341 non-null  float64\n",
      " 20  swin               175341 non-null  int64  \n",
      " 21  stcpb              175341 non-null  int64  \n",
      " 22  dtcpb              175341 non-null  int64  \n",
      " 23  dwin               175341 non-null  int64  \n",
      " 24  tcprtt             175341 non-null  float64\n",
      " 25  synack             175341 non-null  float64\n",
      " 26  ackdat             175341 non-null  float64\n",
      " 27  smean              175341 non-null  int64  \n",
      " 28  dmean              175341 non-null  int64  \n",
      " 29  trans_depth        175341 non-null  int64  \n",
      " 30  response_body_len  175341 non-null  int64  \n",
      " 31  ct_srv_src         175341 non-null  int64  \n",
      " 32  ct_state_ttl       175341 non-null  int64  \n",
      " 33  ct_dst_ltm         175341 non-null  int64  \n",
      " 34  ct_src_dport_ltm   175341 non-null  int64  \n",
      " 35  ct_dst_sport_ltm   175341 non-null  int64  \n",
      " 36  ct_dst_src_ltm     175341 non-null  int64  \n",
      " 37  is_ftp_login       175341 non-null  int64  \n",
      " 38  ct_ftp_cmd         175341 non-null  int64  \n",
      " 39  ct_flw_http_mthd   175341 non-null  int64  \n",
      " 40  ct_src_ltm         175341 non-null  int64  \n",
      " 41  ct_srv_dst         175341 non-null  int64  \n",
      " 42  is_sm_ips_ports    175341 non-null  int64  \n",
      " 43  attack_cat         175341 non-null  object \n",
      " 44  label              175341 non-null  int64  \n",
      "dtypes: float64(11), int64(30), object(4)\n",
      "memory usage: 60.2+ MB\n"
     ]
    }
   ],
   "source": [
    "train.info()"
   ]
  },
  {
   "cell_type": "markdown",
   "id": "early-associate",
   "metadata": {
    "papermill": {
     "duration": 0.046514,
     "end_time": "2021-05-16T13:11:49.258494",
     "exception": false,
     "start_time": "2021-05-16T13:11:49.211980",
     "status": "completed"
    },
    "tags": []
   },
   "source": [
    "So, to summarize, we have 4 categorical features 'attack_cat','proto','service' and 'state'. There are no null values present."
   ]
  },
  {
   "cell_type": "markdown",
   "id": "considerable-flavor",
   "metadata": {
    "papermill": {
     "duration": 0.046287,
     "end_time": "2021-05-16T13:11:49.351656",
     "exception": false,
     "start_time": "2021-05-16T13:11:49.305369",
     "status": "completed"
    },
    "tags": []
   },
   "source": [
    "### Target variable analysis"
   ]
  },
  {
   "cell_type": "code",
   "execution_count": 11,
   "id": "willing-leonard",
   "metadata": {
    "execution": {
     "iopub.execute_input": "2021-05-16T13:11:49.449749Z",
     "iopub.status.busy": "2021-05-16T13:11:49.449077Z",
     "iopub.status.idle": "2021-05-16T13:11:49.598544Z",
     "shell.execute_reply": "2021-05-16T13:11:49.597954Z"
    },
    "papermill": {
     "duration": 0.200659,
     "end_time": "2021-05-16T13:11:49.598689",
     "exception": false,
     "start_time": "2021-05-16T13:11:49.398030",
     "status": "completed"
    },
    "tags": []
   },
   "outputs": [
    {
     "data": {
      "text/plain": [
       "Text(0.5, 1.0, 'Distribution of attack')"
      ]
     },
     "execution_count": 11,
     "metadata": {},
     "output_type": "execute_result"
    },
    {
     "data": {
      "image/png": "[encoded data removed]",
      "text/plain": [
       "<Figure size 432x288 with 1 Axes>"
      ]
     },
     "metadata": {
      "needs_background": "light"
     },
     "output_type": "display_data"
    }
   ],
   "source": [
    "train['label'].value_counts().plot.bar()\n",
    "plt.title(\"Distribution of attack\")"
   ]
  },
  {
   "cell_type": "code",
   "execution_count": 12,
   "id": "fifteen-liverpool",
   "metadata": {
    "execution": {
     "iopub.execute_input": "2021-05-16T13:11:49.703044Z",
     "iopub.status.busy": "2021-05-16T13:11:49.702397Z",
     "iopub.status.idle": "2021-05-16T13:11:49.706961Z",
     "shell.execute_reply": "2021-05-16T13:11:49.706434Z"
    },
    "papermill": {
     "duration": 0.061216,
     "end_time": "2021-05-16T13:11:49.707093",
     "exception": false,
     "start_time": "2021-05-16T13:11:49.645877",
     "status": "completed"
    },
    "tags": []
   },
   "outputs": [
    {
     "data": {
      "text/plain": [
       "1    68.062233\n",
       "0    31.937767\n",
       "Name: label, dtype: float64"
      ]
     },
     "execution_count": 12,
     "metadata": {},
     "output_type": "execute_result"
    }
   ],
   "source": [
    "train['label'].value_counts() / len(train) * 100 "
   ]
  },
  {
   "cell_type": "code",
   "execution_count": 13,
   "id": "cutting-frost",
   "metadata": {
    "execution": {
     "iopub.execute_input": "2021-05-16T13:11:49.807904Z",
     "iopub.status.busy": "2021-05-16T13:11:49.807152Z",
     "iopub.status.idle": "2021-05-16T13:11:49.853591Z",
     "shell.execute_reply": "2021-05-16T13:11:49.852914Z"
    },
    "papermill": {
     "duration": 0.098392,
     "end_time": "2021-05-16T13:11:49.853729",
     "exception": false,
     "start_time": "2021-05-16T13:11:49.755337",
     "status": "completed"
    },
    "tags": []
   },
   "outputs": [
    {
     "data": {
      "text/plain": [
       "Normal            56000\n",
       "Generic           40000\n",
       "Exploits          33393\n",
       "Fuzzers           18184\n",
       "DoS               12264\n",
       "Reconnaissance    10491\n",
       "Analysis           2000\n",
       "Backdoor           1746\n",
       "Shellcode          1133\n",
       "Worms               130\n",
       "Name: attack_cat, dtype: int64"
      ]
     },
     "execution_count": 13,
     "metadata": {},
     "output_type": "execute_result"
    }
   ],
   "source": [
    "train['attack_cat'].value_counts()"
   ]
  },
  {
   "cell_type": "markdown",
   "id": "different-memory",
   "metadata": {
    "papermill": {
     "duration": 0.049519,
     "end_time": "2021-05-16T13:11:49.952483",
     "exception": false,
     "start_time": "2021-05-16T13:11:49.902964",
     "status": "completed"
    },
    "tags": []
   },
   "source": [
    "## Data Preprocessing"
   ]
  },
  {
   "cell_type": "code",
   "execution_count": 14,
   "id": "latest-technology",
   "metadata": {
    "execution": {
     "iopub.execute_input": "2021-05-16T13:11:50.073582Z",
     "iopub.status.busy": "2021-05-16T13:11:50.072565Z",
     "iopub.status.idle": "2021-05-16T13:11:50.267967Z",
     "shell.execute_reply": "2021-05-16T13:11:50.267364Z"
    },
    "papermill": {
     "duration": 0.26559,
     "end_time": "2021-05-16T13:11:50.268097",
     "exception": false,
     "start_time": "2021-05-16T13:11:50.002507",
     "status": "completed"
    },
    "tags": []
   },
   "outputs": [
    {
     "name": "stdout",
     "output_type": "stream",
     "text": [
      "Dropping attack_cat\n",
      "Dropping id\n",
      "Dropping response_body_len\n",
      "Dropping spkts\n",
      "Dropping ct_flw_http_mthd\n",
      "Dropping trans_depth\n",
      "Dropping dwin\n",
      "Dropping ct_ftp_cmd\n",
      "Dropping is_ftp_login\n",
      "Dropping attack_cat\n",
      "Dropping id\n",
      "Dropping response_body_len\n",
      "Dropping spkts\n",
      "Dropping ct_flw_http_mthd\n",
      "Dropping trans_depth\n",
      "Dropping dwin\n",
      "Dropping ct_ftp_cmd\n",
      "Dropping is_ftp_login\n"
     ]
    }
   ],
   "source": [
    "# https://www.kaggle.com/khairulislam/unsw-nb15-feature-importance\n",
    "drop_columns = ['attack_cat', 'id'] + ['response_body_len', 'spkts', 'ct_flw_http_mthd', 'trans_depth', 'dwin', 'ct_ftp_cmd', 'is_ftp_login']\n",
    "for df in [train, test]:\n",
    "    for col in drop_columns:\n",
    "        if col in df.columns:\n",
    "            print('Dropping '+col)\n",
    "            df.drop([col], axis=1, inplace=True)"
   ]
  },
  {
   "cell_type": "code",
   "execution_count": 15,
   "id": "spare-youth",
   "metadata": {
    "execution": {
     "iopub.execute_input": "2021-05-16T13:11:50.374512Z",
     "iopub.status.busy": "2021-05-16T13:11:50.373591Z",
     "iopub.status.idle": "2021-05-16T13:11:50.376556Z",
     "shell.execute_reply": "2021-05-16T13:11:50.376039Z"
    },
    "papermill": {
     "duration": 0.059543,
     "end_time": "2021-05-16T13:11:50.376687",
     "exception": false,
     "start_time": "2021-05-16T13:11:50.317144",
     "status": "completed"
    },
    "tags": []
   },
   "outputs": [],
   "source": [
    "def feature_engineer(df):\n",
    "    df.loc[~df['state'].isin(['FIN', 'INT', 'CON', 'REQ', 'RST']), 'state'] = 'others'\n",
    "    df.loc[~df['service'].isin(['-', 'dns', 'http', 'smtp', 'ftp-data', 'ftp', 'ssh', 'pop3']), 'service'] = 'others'\n",
    "    df.loc[df['proto'].isin(['igmp', 'icmp', 'rtp']), 'proto'] = 'igmp_icmp_rtp'\n",
    "    df.loc[~df['proto'].isin(['tcp', 'udp', 'arp', 'ospf', 'igmp_icmp_rtp']), 'proto'] = 'others'\n",
    "    return df\n",
    "\n",
    "def get_cat_columns(train):\n",
    "    categorical = []\n",
    "    for col in train.columns:\n",
    "        if train[col].dtype == 'object':\n",
    "            categorical.append(col)\n",
    "    return categorical"
   ]
  },
  {
   "cell_type": "code",
   "execution_count": 16,
   "id": "directed-application",
   "metadata": {
    "execution": {
     "iopub.execute_input": "2021-05-16T13:11:50.487616Z",
     "iopub.status.busy": "2021-05-16T13:11:50.484337Z",
     "iopub.status.idle": "2021-05-16T13:11:53.059993Z",
     "shell.execute_reply": "2021-05-16T13:11:53.060502Z"
    },
    "papermill": {
     "duration": 2.634559,
     "end_time": "2021-05-16T13:11:53.060691",
     "exception": false,
     "start_time": "2021-05-16T13:11:50.426132",
     "status": "completed"
    },
    "tags": []
   },
   "outputs": [
    {
     "name": "stdout",
     "output_type": "stream",
     "text": [
      "Column mismatch set(), set()\n"
     ]
    }
   ],
   "source": [
    "x_train, y_train = train.drop(['label'], axis=1), train['label']\n",
    "x_test, y_test = test.drop(['label'], axis=1), test['label']\n",
    "\n",
    "x_train, x_test = feature_engineer(x_train), feature_engineer(x_test)\n",
    "\n",
    "categorical_columns = get_cat_columns(x_train)\n",
    "non_categorical_columns = [x for x in x_train.columns if x not in categorical_columns]\n",
    "\n",
    "from sklearn.preprocessing import StandardScaler\n",
    "scaler = StandardScaler()\n",
    "x_train[non_categorical_columns] = scaler.fit_transform(x_train[non_categorical_columns])\n",
    "x_test[non_categorical_columns] = scaler.transform(x_test[non_categorical_columns])\n",
    "\n",
    "\n",
    "x_train = pd.get_dummies(x_train)\n",
    "x_test = pd.get_dummies(x_test)\n",
    "print(\"Column mismatch {0}, {1}\".format(set(x_train.columns)- set(x_test.columns),  set(x_test.columns)- set(x_train.columns)))\n",
    "features = list(set(x_train.columns) & set(x_test.columns))\n"
   ]
  },
  {
   "cell_type": "code",
   "execution_count": 17,
   "id": "independent-guitar",
   "metadata": {
    "execution": {
     "iopub.execute_input": "2021-05-16T13:11:53.166794Z",
     "iopub.status.busy": "2021-05-16T13:11:53.166120Z",
     "iopub.status.idle": "2021-05-16T13:11:53.192116Z",
     "shell.execute_reply": "2021-05-16T13:11:53.191461Z"
    },
    "papermill": {
     "duration": 0.080862,
     "end_time": "2021-05-16T13:11:53.192251",
     "exception": false,
     "start_time": "2021-05-16T13:11:53.111389",
     "status": "completed"
    },
    "tags": []
   },
   "outputs": [
    {
     "name": "stdout",
     "output_type": "stream",
     "text": [
      "Number of features 53\n"
     ]
    }
   ],
   "source": [
    "\n",
    "print(f\"Number of features {len(features)}\")\n",
    "x_train = x_train[features]\n",
    "x_test = x_test[features]"
   ]
  },
  {
   "cell_type": "code",
   "execution_count": 18,
   "id": "progressive-niger",
   "metadata": {
    "execution": {
     "iopub.execute_input": "2021-05-16T13:11:53.313801Z",
     "iopub.status.busy": "2021-05-16T13:11:53.305583Z",
     "iopub.status.idle": "2021-05-16T13:11:53.320507Z",
     "shell.execute_reply": "2021-05-16T13:11:53.319908Z"
    },
    "papermill": {
     "duration": 0.078681,
     "end_time": "2021-05-16T13:11:53.320645",
     "exception": false,
     "start_time": "2021-05-16T13:11:53.241964",
     "status": "completed"
    },
    "tags": []
   },
   "outputs": [
    {
     "data": {
      "text/html": [
       "<div>\n",
       "<style scoped>\n",
       "    .dataframe tbody tr th:only-of-type {\n",
       "        vertical-align: middle;\n",
       "    }\n",
       "\n",
       "    .dataframe tbody tr th {\n",
       "        vertical-align: top;\n",
       "    }\n",
       "\n",
       "    .dataframe thead th {\n",
       "        text-align: right;\n",
       "    }\n",
       "</style>\n",
       "<table border=\"1\" class=\"dataframe\">\n",
       "  <thead>\n",
       "    <tr style=\"text-align: right;\">\n",
       "      <th></th>\n",
       "      <th>ackdat</th>\n",
       "      <th>dload</th>\n",
       "      <th>ct_dst_sport_ltm</th>\n",
       "      <th>dbytes</th>\n",
       "      <th>proto_igmp_icmp_rtp</th>\n",
       "      <th>proto_ospf</th>\n",
       "      <th>proto_udp</th>\n",
       "      <th>stcpb</th>\n",
       "      <th>smean</th>\n",
       "      <th>djit</th>\n",
       "      <th>...</th>\n",
       "      <th>dur</th>\n",
       "      <th>sttl</th>\n",
       "      <th>sinpkt</th>\n",
       "      <th>dinpkt</th>\n",
       "      <th>tcprtt</th>\n",
       "      <th>ct_src_dport_ltm</th>\n",
       "      <th>is_sm_ips_ports</th>\n",
       "      <th>dloss</th>\n",
       "      <th>service_ftp-data</th>\n",
       "      <th>service_pop3</th>\n",
       "    </tr>\n",
       "  </thead>\n",
       "  <tbody>\n",
       "    <tr>\n",
       "      <th>0</th>\n",
       "      <td>-0.503014</td>\n",
       "      <td>-0.273700</td>\n",
       "      <td>-0.554373</td>\n",
       "      <td>-0.102726</td>\n",
       "      <td>0</td>\n",
       "      <td>0</td>\n",
       "      <td>0</td>\n",
       "      <td>-0.256392</td>\n",
       "      <td>-0.458048</td>\n",
       "      <td>-0.145905</td>\n",
       "      <td>...</td>\n",
       "      <td>-0.191029</td>\n",
       "      <td>0.703839</td>\n",
       "      <td>-0.132788</td>\n",
       "      <td>-0.080885</td>\n",
       "      <td>-0.521660</td>\n",
       "      <td>-0.544736</td>\n",
       "      <td>-0.126508</td>\n",
       "      <td>-0.131759</td>\n",
       "      <td>0</td>\n",
       "      <td>0</td>\n",
       "    </tr>\n",
       "    <tr>\n",
       "      <th>1</th>\n",
       "      <td>-0.503014</td>\n",
       "      <td>-0.069233</td>\n",
       "      <td>-0.554373</td>\n",
       "      <td>0.188544</td>\n",
       "      <td>0</td>\n",
       "      <td>0</td>\n",
       "      <td>0</td>\n",
       "      <td>0.331031</td>\n",
       "      <td>-0.414076</td>\n",
       "      <td>0.192913</td>\n",
       "      <td>...</td>\n",
       "      <td>-0.109485</td>\n",
       "      <td>-1.141901</td>\n",
       "      <td>-0.129251</td>\n",
       "      <td>-0.073735</td>\n",
       "      <td>-0.521660</td>\n",
       "      <td>-0.544736</td>\n",
       "      <td>-0.126508</td>\n",
       "      <td>0.190621</td>\n",
       "      <td>0</td>\n",
       "      <td>0</td>\n",
       "    </tr>\n",
       "    <tr>\n",
       "      <th>2</th>\n",
       "      <td>0.742202</td>\n",
       "      <td>-0.252044</td>\n",
       "      <td>-0.554373</td>\n",
       "      <td>-0.012133</td>\n",
       "      <td>0</td>\n",
       "      <td>0</td>\n",
       "      <td>0</td>\n",
       "      <td>0.846258</td>\n",
       "      <td>-0.443391</td>\n",
       "      <td>2.663504</td>\n",
       "      <td>...</td>\n",
       "      <td>0.040699</td>\n",
       "      <td>-1.141901</td>\n",
       "      <td>-0.104126</td>\n",
       "      <td>0.014711</td>\n",
       "      <td>0.888444</td>\n",
       "      <td>-0.544736</td>\n",
       "      <td>-0.126508</td>\n",
       "      <td>-0.017978</td>\n",
       "      <td>0</td>\n",
       "      <td>0</td>\n",
       "    </tr>\n",
       "    <tr>\n",
       "      <th>3</th>\n",
       "      <td>-0.503014</td>\n",
       "      <td>-0.275821</td>\n",
       "      <td>-0.554373</td>\n",
       "      <td>-0.098563</td>\n",
       "      <td>0</td>\n",
       "      <td>0</td>\n",
       "      <td>0</td>\n",
       "      <td>0.101729</td>\n",
       "      <td>-0.414076</td>\n",
       "      <td>1.080373</td>\n",
       "      <td>...</td>\n",
       "      <td>0.049729</td>\n",
       "      <td>-1.141901</td>\n",
       "      <td>-0.115034</td>\n",
       "      <td>0.002046</td>\n",
       "      <td>-0.521660</td>\n",
       "      <td>-0.544736</td>\n",
       "      <td>-0.126508</td>\n",
       "      <td>-0.074868</td>\n",
       "      <td>0</td>\n",
       "      <td>0</td>\n",
       "    </tr>\n",
       "    <tr>\n",
       "      <th>4</th>\n",
       "      <td>0.909954</td>\n",
       "      <td>-0.275561</td>\n",
       "      <td>-0.554373</td>\n",
       "      <td>-0.102057</td>\n",
       "      <td>0</td>\n",
       "      <td>0</td>\n",
       "      <td>0</td>\n",
       "      <td>1.082366</td>\n",
       "      <td>-0.409190</td>\n",
       "      <td>-0.120301</td>\n",
       "      <td>...</td>\n",
       "      <td>-0.140417</td>\n",
       "      <td>0.723268</td>\n",
       "      <td>-0.129549</td>\n",
       "      <td>-0.012721</td>\n",
       "      <td>1.096172</td>\n",
       "      <td>-0.420468</td>\n",
       "      <td>-0.126508</td>\n",
       "      <td>-0.112795</td>\n",
       "      <td>0</td>\n",
       "      <td>0</td>\n",
       "    </tr>\n",
       "  </tbody>\n",
       "</table>\n",
       "<p>5 rows × 53 columns</p>\n",
       "</div>"
      ],
      "text/plain": [
       "     ackdat     dload  ct_dst_sport_ltm    dbytes  proto_igmp_icmp_rtp  \\\n",
       "0 -0.503014 -0.273700         -0.554373 -0.102726                    0   \n",
       "1 -0.503014 -0.069233         -0.554373  0.188544                    0   \n",
       "2  0.742202 -0.252044         -0.554373 -0.012133                    0   \n",
       "3 -0.503014 -0.275821         -0.554373 -0.098563                    0   \n",
       "4  0.909954 -0.275561         -0.554373 -0.102057                    0   \n",
       "\n",
       "   proto_ospf  proto_udp     stcpb     smean      djit  ...       dur  \\\n",
       "0           0          0 -0.256392 -0.458048 -0.145905  ... -0.191029   \n",
       "1           0          0  0.331031 -0.414076  0.192913  ... -0.109485   \n",
       "2           0          0  0.846258 -0.443391  2.663504  ...  0.040699   \n",
       "3           0          0  0.101729 -0.414076  1.080373  ...  0.049729   \n",
       "4           0          0  1.082366 -0.409190 -0.120301  ... -0.140417   \n",
       "\n",
       "       sttl    sinpkt    dinpkt    tcprtt  ct_src_dport_ltm  is_sm_ips_ports  \\\n",
       "0  0.703839 -0.132788 -0.080885 -0.521660         -0.544736        -0.126508   \n",
       "1 -1.141901 -0.129251 -0.073735 -0.521660         -0.544736        -0.126508   \n",
       "2 -1.141901 -0.104126  0.014711  0.888444         -0.544736        -0.126508   \n",
       "3 -1.141901 -0.115034  0.002046 -0.521660         -0.544736        -0.126508   \n",
       "4  0.723268 -0.129549 -0.012721  1.096172         -0.420468        -0.126508   \n",
       "\n",
       "      dloss  service_ftp-data  service_pop3  \n",
       "0 -0.131759                 0             0  \n",
       "1  0.190621                 0             0  \n",
       "2 -0.017978                 0             0  \n",
       "3 -0.074868                 0             0  \n",
       "4 -0.112795                 0             0  \n",
       "\n",
       "[5 rows x 53 columns]"
      ]
     },
     "execution_count": 18,
     "metadata": {},
     "output_type": "execute_result"
    }
   ],
   "source": [
    "x_train.head()"
   ]
  },
  {
   "cell_type": "markdown",
   "id": "seeing-merit",
   "metadata": {
    "papermill": {
     "duration": 0.049955,
     "end_time": "2021-05-16T13:11:53.420829",
     "exception": false,
     "start_time": "2021-05-16T13:11:53.370874",
     "status": "completed"
    },
    "tags": []
   },
   "source": [
    "## Model "
   ]
  },
  {
   "cell_type": "markdown",
   "id": "latest-player",
   "metadata": {
    "papermill": {
     "duration": 0.05036,
     "end_time": "2021-05-16T13:11:53.521902",
     "exception": false,
     "start_time": "2021-05-16T13:11:53.471542",
     "status": "completed"
    },
    "tags": []
   },
   "source": [
    "\n",
    "### Light GBM"
   ]
  },
  {
   "cell_type": "code",
   "execution_count": 19,
   "id": "yellow-evanescence",
   "metadata": {
    "execution": {
     "iopub.execute_input": "2021-05-16T13:11:53.628087Z",
     "iopub.status.busy": "2021-05-16T13:11:53.627491Z",
     "iopub.status.idle": "2021-05-16T13:11:56.260516Z",
     "shell.execute_reply": "2021-05-16T13:11:56.261468Z"
    },
    "papermill": {
     "duration": 2.689561,
     "end_time": "2021-05-16T13:11:56.261672",
     "exception": false,
     "start_time": "2021-05-16T13:11:53.572111",
     "status": "completed"
    },
    "tags": []
   },
   "outputs": [
    {
     "data": {
      "text/html": [
       "<style type='text/css'>\n",
       ".datatable table.frame { margin-bottom: 0; }\n",
       ".datatable table.frame thead { border-bottom: none; }\n",
       ".datatable table.frame tr.coltypes td {  color: #FFFFFF;  line-height: 6px;  padding: 0 0.5em;}\n",
       ".datatable .bool    { background: #DDDD99; }\n",
       ".datatable .object  { background: #565656; }\n",
       ".datatable .int     { background: #5D9E5D; }\n",
       ".datatable .float   { background: #4040CC; }\n",
       ".datatable .str     { background: #CC4040; }\n",
       ".datatable .row_index {  background: var(--jp-border-color3);  border-right: 1px solid var(--jp-border-color0);  color: var(--jp-ui-font-color3);  font-size: 9px;}\n",
       ".datatable .frame tr.coltypes .row_index {  background: var(--jp-border-color0);}\n",
       ".datatable th:nth-child(2) { padding-left: 12px; }\n",
       ".datatable .hellipsis {  color: var(--jp-cell-editor-border-color);}\n",
       ".datatable .vellipsis {  background: var(--jp-layout-color0);  color: var(--jp-cell-editor-border-color);}\n",
       ".datatable .na {  color: var(--jp-cell-editor-border-color);  font-size: 80%;}\n",
       ".datatable .footer { font-size: 9px; }\n",
       ".datatable .frame_dimensions {  background: var(--jp-border-color3);  border-top: 1px solid var(--jp-border-color0);  color: var(--jp-ui-font-color3);  display: inline-block;  opacity: 0.6;  padding: 1px 10px 1px 5px;}\n",
       "</style>\n"
      ],
      "text/plain": [
       "<IPython.core.display.HTML object>"
      ]
     },
     "metadata": {},
     "output_type": "display_data"
    },
    {
     "data": {
      "text/plain": [
       "LGBMClassifier()"
      ]
     },
     "execution_count": 19,
     "metadata": {},
     "output_type": "execute_result"
    }
   ],
   "source": [
    "# build the lightgbm model\n",
    "import lightgbm as lgb\n",
    "clf = lgb.LGBMClassifier()\n",
    "clf.fit(x_train, y_train)"
   ]
  },
  {
   "cell_type": "code",
   "execution_count": 20,
   "id": "excited-repository",
   "metadata": {
    "execution": {
     "iopub.execute_input": "2021-05-16T13:11:56.371086Z",
     "iopub.status.busy": "2021-05-16T13:11:56.370467Z",
     "iopub.status.idle": "2021-05-16T13:11:56.567613Z",
     "shell.execute_reply": "2021-05-16T13:11:56.568170Z"
    },
    "papermill": {
     "duration": 0.253669,
     "end_time": "2021-05-16T13:11:56.568381",
     "exception": false,
     "start_time": "2021-05-16T13:11:56.314712",
     "status": "completed"
    },
    "tags": []
   },
   "outputs": [],
   "source": [
    "# predict the results\n",
    "y_pred=clf.predict(x_test)"
   ]
  },
  {
   "cell_type": "code",
   "execution_count": 21,
   "id": "adopted-contest",
   "metadata": {
    "execution": {
     "iopub.execute_input": "2021-05-16T13:11:56.679139Z",
     "iopub.status.busy": "2021-05-16T13:11:56.678209Z",
     "iopub.status.idle": "2021-05-16T13:11:56.690968Z",
     "shell.execute_reply": "2021-05-16T13:11:56.690360Z"
    },
    "papermill": {
     "duration": 0.069271,
     "end_time": "2021-05-16T13:11:56.691125",
     "exception": false,
     "start_time": "2021-05-16T13:11:56.621854",
     "status": "completed"
    },
    "tags": []
   },
   "outputs": [
    {
     "name": "stdout",
     "output_type": "stream",
     "text": [
      "LightGBM Model accuracy score: 0.8770\n"
     ]
    }
   ],
   "source": [
    "# view accuracy\n",
    "from sklearn.metrics import accuracy_score\n",
    "accuracy=accuracy_score(y_pred, y_test)\n",
    "print('LightGBM Model accuracy score: {0:0.4f}'.format(accuracy_score(y_test, y_pred)))"
   ]
  },
  {
   "cell_type": "code",
   "execution_count": 22,
   "id": "parliamentary-israel",
   "metadata": {
    "execution": {
     "iopub.execute_input": "2021-05-16T13:11:56.801326Z",
     "iopub.status.busy": "2021-05-16T13:11:56.800721Z",
     "iopub.status.idle": "2021-05-16T13:11:57.172455Z",
     "shell.execute_reply": "2021-05-16T13:11:57.173003Z"
    },
    "papermill": {
     "duration": 0.429045,
     "end_time": "2021-05-16T13:11:57.173199",
     "exception": false,
     "start_time": "2021-05-16T13:11:56.744154",
     "status": "completed"
    },
    "tags": []
   },
   "outputs": [],
   "source": [
    "y_pred_train = clf.predict(x_train)"
   ]
  },
  {
   "cell_type": "code",
   "execution_count": 23,
   "id": "buried-tampa",
   "metadata": {
    "execution": {
     "iopub.execute_input": "2021-05-16T13:11:57.282138Z",
     "iopub.status.busy": "2021-05-16T13:11:57.281583Z",
     "iopub.status.idle": "2021-05-16T13:11:57.297661Z",
     "shell.execute_reply": "2021-05-16T13:11:57.298142Z"
    },
    "papermill": {
     "duration": 0.071992,
     "end_time": "2021-05-16T13:11:57.298333",
     "exception": false,
     "start_time": "2021-05-16T13:11:57.226341",
     "status": "completed"
    },
    "tags": []
   },
   "outputs": [
    {
     "name": "stdout",
     "output_type": "stream",
     "text": [
      "Training-set accuracy score: 0.9602\n"
     ]
    }
   ],
   "source": [
    "print('Training-set accuracy score: {0:0.4f}'. format(accuracy_score(y_train, y_pred_train)))"
   ]
  },
  {
   "cell_type": "code",
   "execution_count": 24,
   "id": "forward-climate",
   "metadata": {
    "execution": {
     "iopub.execute_input": "2021-05-16T13:11:57.408788Z",
     "iopub.status.busy": "2021-05-16T13:11:57.408138Z",
     "iopub.status.idle": "2021-05-16T13:11:57.983804Z",
     "shell.execute_reply": "2021-05-16T13:11:57.984714Z"
    },
    "papermill": {
     "duration": 0.63409,
     "end_time": "2021-05-16T13:11:57.984906",
     "exception": false,
     "start_time": "2021-05-16T13:11:57.350816",
     "status": "completed"
    },
    "tags": []
   },
   "outputs": [
    {
     "name": "stdout",
     "output_type": "stream",
     "text": [
      "Training set score: 0.9602\n",
      "Test set score: 0.8770\n"
     ]
    }
   ],
   "source": [
    "# print the scores on training and test set\n",
    "\n",
    "print('Training set score: {:.4f}'.format(clf.score(x_train, y_train)))\n",
    "\n",
    "print('Test set score: {:.4f}'.format(clf.score(x_test, y_test)))"
   ]
  },
  {
   "cell_type": "code",
   "execution_count": 25,
   "id": "collected-terror",
   "metadata": {
    "execution": {
     "iopub.execute_input": "2021-05-16T13:11:58.102864Z",
     "iopub.status.busy": "2021-05-16T13:11:58.102220Z",
     "iopub.status.idle": "2021-05-16T13:11:58.214353Z",
     "shell.execute_reply": "2021-05-16T13:11:58.213746Z"
    },
    "papermill": {
     "duration": 0.173644,
     "end_time": "2021-05-16T13:11:58.214602",
     "exception": false,
     "start_time": "2021-05-16T13:11:58.040958",
     "status": "completed"
    },
    "tags": []
   },
   "outputs": [
    {
     "name": "stdout",
     "output_type": "stream",
     "text": [
      "Confusion matrix\n",
      "\n",
      " [[27540  9460]\n",
      " [  666 44666]]\n",
      "\n",
      "True Positives(TP) =  27540\n",
      "\n",
      "True Negatives(TN) =  44666\n",
      "\n",
      "False Positives(FP) =  9460\n",
      "\n",
      "False Negatives(FN) =  666\n"
     ]
    }
   ],
   "source": [
    "\n",
    "\n",
    "# view confusion-matrix\n",
    "# Print the Confusion Matrix and slice it into four pieces\n",
    "\n",
    "from sklearn.metrics import confusion_matrix\n",
    "cm = confusion_matrix(y_test, y_pred)\n",
    "print('Confusion matrix\\n\\n', cm)\n",
    "print('\\nTrue Positives(TP) = ', cm[0,0])\n",
    "print('\\nTrue Negatives(TN) = ', cm[1,1])\n",
    "print('\\nFalse Positives(FP) = ', cm[0,1])\n",
    "print('\\nFalse Negatives(FN) = ', cm[1,0])"
   ]
  },
  {
   "cell_type": "code",
   "execution_count": 26,
   "id": "fluid-warren",
   "metadata": {
    "execution": {
     "iopub.execute_input": "2021-05-16T13:11:58.345764Z",
     "iopub.status.busy": "2021-05-16T13:11:58.343932Z",
     "iopub.status.idle": "2021-05-16T13:11:58.517189Z",
     "shell.execute_reply": "2021-05-16T13:11:58.516681Z"
    },
    "papermill": {
     "duration": 0.248218,
     "end_time": "2021-05-16T13:11:58.517338",
     "exception": false,
     "start_time": "2021-05-16T13:11:58.269120",
     "status": "completed"
    },
    "tags": []
   },
   "outputs": [
    {
     "data": {
      "text/plain": [
       "<AxesSubplot:>"
      ]
     },
     "execution_count": 26,
     "metadata": {},
     "output_type": "execute_result"
    },
    {
     "data": {
      "image/png": "[encoded data removed]",
      "text/plain": [
       "<Figure size 432x288 with 2 Axes>"
      ]
     },
     "metadata": {
      "needs_background": "light"
     },
     "output_type": "display_data"
    }
   ],
   "source": [
    "# visualize confusion matrix with seaborn heatmap\n",
    "\n",
    "cm_matrix = pd.DataFrame(data=cm, columns=['Actual Positive:1', 'Actual Negative:0'], \n",
    "                                 index=['Predict Positive:1', 'Predict Negative:0'])\n",
    "\n",
    "sns.heatmap(cm_matrix, annot=True, fmt='d', cmap='YlGnBu')"
   ]
  },
  {
   "cell_type": "code",
   "execution_count": 27,
   "id": "massive-harvard",
   "metadata": {
    "execution": {
     "iopub.execute_input": "2021-05-16T13:11:58.630656Z",
     "iopub.status.busy": "2021-05-16T13:11:58.630071Z",
     "iopub.status.idle": "2021-05-16T13:11:58.715191Z",
     "shell.execute_reply": "2021-05-16T13:11:58.714658Z"
    },
    "papermill": {
     "duration": 0.14331,
     "end_time": "2021-05-16T13:11:58.715343",
     "exception": false,
     "start_time": "2021-05-16T13:11:58.572033",
     "status": "completed"
    },
    "tags": []
   },
   "outputs": [
    {
     "name": "stdout",
     "output_type": "stream",
     "text": [
      "              precision    recall  f1-score   support\n",
      "\n",
      "           0       0.98      0.74      0.84     37000\n",
      "           1       0.83      0.99      0.90     45332\n",
      "\n",
      "    accuracy                           0.88     82332\n",
      "   macro avg       0.90      0.86      0.87     82332\n",
      "weighted avg       0.89      0.88      0.87     82332\n",
      "\n"
     ]
    }
   ],
   "source": [
    "from sklearn.metrics import classification_report\n",
    "print(classification_report(y_test, y_pred))"
   ]
  },
  {
   "cell_type": "markdown",
   "id": "bulgarian-command",
   "metadata": {
    "papermill": {
     "duration": 0.055242,
     "end_time": "2021-05-16T13:11:58.825305",
     "exception": false,
     "start_time": "2021-05-16T13:11:58.770063",
     "status": "completed"
    },
    "tags": []
   },
   "source": [
    "## XG Boost"
   ]
  },
  {
   "cell_type": "code",
   "execution_count": 28,
   "id": "complicated-innocent",
   "metadata": {
    "execution": {
     "iopub.execute_input": "2021-05-16T13:11:58.939345Z",
     "iopub.status.busy": "2021-05-16T13:11:58.938722Z",
     "iopub.status.idle": "2021-05-16T13:11:59.213445Z",
     "shell.execute_reply": "2021-05-16T13:11:59.213891Z"
    },
    "papermill": {
     "duration": 0.334468,
     "end_time": "2021-05-16T13:11:59.214084",
     "exception": false,
     "start_time": "2021-05-16T13:11:58.879616",
     "status": "completed"
    },
    "tags": []
   },
   "outputs": [],
   "source": [
    "import xgboost as xgb"
   ]
  },
  {
   "cell_type": "code",
   "execution_count": 29,
   "id": "dutch-venezuela",
   "metadata": {
    "execution": {
     "iopub.execute_input": "2021-05-16T13:11:59.328502Z",
     "iopub.status.busy": "2021-05-16T13:11:59.327886Z",
     "iopub.status.idle": "2021-05-16T13:12:16.335651Z",
     "shell.execute_reply": "2021-05-16T13:12:16.335023Z"
    },
    "papermill": {
     "duration": 17.065716,
     "end_time": "2021-05-16T13:12:16.335787",
     "exception": false,
     "start_time": "2021-05-16T13:11:59.270071",
     "status": "completed"
    },
    "tags": []
   },
   "outputs": [
    {
     "name": "stderr",
     "output_type": "stream",
     "text": [
      "/opt/conda/lib/python3.7/site-packages/xgboost/sklearn.py:888: UserWarning: The use of label encoder in XGBClassifier is deprecated and will be removed in a future release. To remove this warning, do the following: 1) Pass option use_label_encoder=False when constructing XGBClassifier object; and 2) Encode your labels (y) as integers starting with 0, i.e. 0, 1, 2, ..., [num_class - 1].\n",
      "  warnings.warn(label_encoder_deprecation_msg, UserWarning)\n"
     ]
    },
    {
     "name": "stdout",
     "output_type": "stream",
     "text": [
      "[13:11:59] WARNING: ../src/learner.cc:1061: Starting in XGBoost 1.3.0, the default evaluation metric used with the objective 'binary:logistic' was changed from 'error' to 'logloss'. Explicitly set eval_metric if you'd like to restore the old behavior.\n"
     ]
    },
    {
     "data": {
      "text/plain": [
       "XGBClassifier(alpha=10, base_score=0.5, booster='gbtree', colsample_bylevel=1,\n",
       "              colsample_bynode=1, colsample_bytree=1, gamma=0, gpu_id=-1,\n",
       "              importance_type='gain', interaction_constraints='',\n",
       "              learning_rate=1.0, max_delta_step=0, max_depth=4,\n",
       "              min_child_weight=1, missing=nan, monotone_constraints='()',\n",
       "              n_estimators=100, n_jobs=4, num_parallel_tree=1, random_state=0,\n",
       "              reg_alpha=10, reg_lambda=1, scale_pos_weight=1, subsample=1,\n",
       "              tree_method='exact', validate_parameters=1, verbosity=None)"
      ]
     },
     "execution_count": 29,
     "metadata": {},
     "output_type": "execute_result"
    }
   ],
   "source": [
    "# import XGBClassifier\n",
    "from xgboost import XGBClassifier\n",
    "\n",
    "\n",
    "# declare parameters\n",
    "params = {\n",
    "            'objective':'binary:logistic',\n",
    "            'max_depth': 4,\n",
    "            'alpha': 10,\n",
    "            'learning_rate': 1.0,\n",
    "            'n_estimators':100\n",
    "        }         \n",
    "           \n",
    "          \n",
    "# instantiate the classifier \n",
    "xgb_clf = XGBClassifier(**params)\n",
    "\n",
    "\n",
    "# fit the classifier to the training data\n",
    "xgb_clf.fit(x_train, y_train)"
   ]
  },
  {
   "cell_type": "code",
   "execution_count": 30,
   "id": "floppy-charity",
   "metadata": {
    "execution": {
     "iopub.execute_input": "2021-05-16T13:12:16.455723Z",
     "iopub.status.busy": "2021-05-16T13:12:16.455069Z",
     "iopub.status.idle": "2021-05-16T13:12:16.553678Z",
     "shell.execute_reply": "2021-05-16T13:12:16.554219Z"
    },
    "papermill": {
     "duration": 0.162074,
     "end_time": "2021-05-16T13:12:16.554455",
     "exception": false,
     "start_time": "2021-05-16T13:12:16.392381",
     "status": "completed"
    },
    "tags": []
   },
   "outputs": [],
   "source": [
    "# make predictions on test data\n",
    "\n",
    "y_pred = xgb_clf.predict(x_test)"
   ]
  },
  {
   "cell_type": "code",
   "execution_count": 31,
   "id": "vertical-acting",
   "metadata": {
    "execution": {
     "iopub.execute_input": "2021-05-16T13:12:16.674163Z",
     "iopub.status.busy": "2021-05-16T13:12:16.673566Z",
     "iopub.status.idle": "2021-05-16T13:12:16.681936Z",
     "shell.execute_reply": "2021-05-16T13:12:16.681450Z"
    },
    "papermill": {
     "duration": 0.069447,
     "end_time": "2021-05-16T13:12:16.682070",
     "exception": false,
     "start_time": "2021-05-16T13:12:16.612623",
     "status": "completed"
    },
    "tags": []
   },
   "outputs": [
    {
     "name": "stdout",
     "output_type": "stream",
     "text": [
      "XGBoost model accuracy score: 0.8733\n"
     ]
    }
   ],
   "source": [
    "# compute and print accuracy score\n",
    "\n",
    "from sklearn.metrics import accuracy_score\n",
    "\n",
    "print('XGBoost model accuracy score: {0:0.4f}'. format(accuracy_score(y_test, y_pred)))"
   ]
  },
  {
   "cell_type": "code",
   "execution_count": 32,
   "id": "answering-peter",
   "metadata": {
    "execution": {
     "iopub.execute_input": "2021-05-16T13:12:16.800609Z",
     "iopub.status.busy": "2021-05-16T13:12:16.799975Z",
     "iopub.status.idle": "2021-05-16T13:12:17.466333Z",
     "shell.execute_reply": "2021-05-16T13:12:17.465845Z"
    },
    "papermill": {
     "duration": 0.727312,
     "end_time": "2021-05-16T13:12:17.466467",
     "exception": false,
     "start_time": "2021-05-16T13:12:16.739155",
     "status": "completed"
    },
    "tags": []
   },
   "outputs": [
    {
     "data": {
      "image/png": "[encoded data removed]",
      "text/plain": [
       "<Figure size 432x288 with 1 Axes>"
      ]
     },
     "metadata": {
      "needs_background": "light"
     },
     "output_type": "display_data"
    },
    {
     "data": {
      "text/plain": [
       "<Figure size 1440x1152 with 0 Axes>"
      ]
     },
     "metadata": {},
     "output_type": "display_data"
    }
   ],
   "source": [
    "\n",
    "xgb.plot_importance(xgb_clf)\n",
    "plt.figure(figsize = (20, 16))\n",
    "plt.show()"
   ]
  },
  {
   "cell_type": "markdown",
   "id": "similar-manitoba",
   "metadata": {
    "papermill": {
     "duration": 0.0577,
     "end_time": "2021-05-16T13:12:17.582239",
     "exception": false,
     "start_time": "2021-05-16T13:12:17.524539",
     "status": "completed"
    },
    "tags": []
   },
   "source": [
    "## Logistic regression"
   ]
  },
  {
   "cell_type": "code",
   "execution_count": 33,
   "id": "surface-label",
   "metadata": {
    "execution": {
     "iopub.execute_input": "2021-05-16T13:12:17.705225Z",
     "iopub.status.busy": "2021-05-16T13:12:17.704642Z",
     "iopub.status.idle": "2021-05-16T13:12:21.326961Z",
     "shell.execute_reply": "2021-05-16T13:12:21.327564Z"
    },
    "papermill": {
     "duration": 3.686525,
     "end_time": "2021-05-16T13:12:21.327729",
     "exception": false,
     "start_time": "2021-05-16T13:12:17.641204",
     "status": "completed"
    },
    "tags": []
   },
   "outputs": [
    {
     "name": "stdout",
     "output_type": "stream",
     "text": [
      "0.8134261283583539\n"
     ]
    },
    {
     "name": "stderr",
     "output_type": "stream",
     "text": [
      "/opt/conda/lib/python3.7/site-packages/sklearn/linear_model/_logistic.py:765: ConvergenceWarning: lbfgs failed to converge (status=1):\n",
      "STOP: TOTAL NO. of ITERATIONS REACHED LIMIT.\n",
      "\n",
      "Increase the number of iterations (max_iter) or scale the data as shown in:\n",
      "    https://scikit-learn.org/stable/modules/preprocessing.html\n",
      "Please also refer to the documentation for alternative solver options:\n",
      "    https://scikit-learn.org/stable/modules/linear_model.html#logistic-regression\n",
      "  extra_warning_msg=_LOGISTIC_SOLVER_CONVERGENCE_MSG)\n"
     ]
    }
   ],
   "source": [
    "from sklearn.linear_model import LogisticRegression\n",
    "clf = LogisticRegression(random_state=0).fit(x_train, y_train)\n",
    "y_pred = clf.predict(x_test)\n",
    "print(clf.score(x_test,y_test))"
   ]
  },
  {
   "cell_type": "code",
   "execution_count": 34,
   "id": "public-jenny",
   "metadata": {
    "execution": {
     "iopub.execute_input": "2021-05-16T13:12:21.450811Z",
     "iopub.status.busy": "2021-05-16T13:12:21.450182Z",
     "iopub.status.idle": "2021-05-16T13:12:21.564973Z",
     "shell.execute_reply": "2021-05-16T13:12:21.564424Z"
    },
    "papermill": {
     "duration": 0.178372,
     "end_time": "2021-05-16T13:12:21.565108",
     "exception": false,
     "start_time": "2021-05-16T13:12:21.386736",
     "status": "completed"
    },
    "tags": []
   },
   "outputs": [
    {
     "name": "stdout",
     "output_type": "stream",
     "text": [
      "Confusion matrix\n",
      "\n",
      " [[22569 14431]\n",
      " [  930 44402]]\n",
      "\n",
      "True Positives(TP) =  22569\n",
      "\n",
      "True Negatives(TN) =  44402\n",
      "\n",
      "False Positives(FP) =  14431\n",
      "\n",
      "False Negatives(FN) =  930\n"
     ]
    }
   ],
   "source": [
    "# view confusion-matrix\n",
    "# Print the Confusion Matrix and slice it into four pieces\n",
    "\n",
    "from sklearn.metrics import confusion_matrix\n",
    "cm = confusion_matrix(y_test, y_pred)\n",
    "print('Confusion matrix\\n\\n', cm)\n",
    "print('\\nTrue Positives(TP) = ', cm[0,0])\n",
    "print('\\nTrue Negatives(TN) = ', cm[1,1])\n",
    "print('\\nFalse Positives(FP) = ', cm[0,1])\n",
    "print('\\nFalse Negatives(FN) = ', cm[1,0])"
   ]
  },
  {
   "cell_type": "markdown",
   "id": "handmade-domestic",
   "metadata": {
    "papermill": {
     "duration": 0.060579,
     "end_time": "2021-05-16T13:12:21.685630",
     "exception": false,
     "start_time": "2021-05-16T13:12:21.625051",
     "status": "completed"
    },
    "tags": []
   },
   "source": [
    "## SVM"
   ]
  },
  {
   "cell_type": "code",
   "execution_count": 35,
   "id": "hollow-breed",
   "metadata": {
    "execution": {
     "iopub.execute_input": "2021-05-16T13:12:21.815392Z",
     "iopub.status.busy": "2021-05-16T13:12:21.814341Z",
     "iopub.status.idle": "2021-05-16T13:25:29.927791Z",
     "shell.execute_reply": "2021-05-16T13:25:29.928249Z"
    },
    "papermill": {
     "duration": 788.18232,
     "end_time": "2021-05-16T13:25:29.928421",
     "exception": false,
     "start_time": "2021-05-16T13:12:21.746101",
     "status": "completed"
    },
    "tags": []
   },
   "outputs": [
    {
     "name": "stdout",
     "output_type": "stream",
     "text": [
      "Accuracy: 0.8157217120925035\n"
     ]
    }
   ],
   "source": [
    "from sklearn import svm,preprocessing\n",
    "from sklearn.pipeline import make_pipeline\n",
    "from sklearn.preprocessing import StandardScaler\n",
    "from sklearn.svm import SVC\n",
    "clf = make_pipeline(StandardScaler(), SVC(gamma='auto'))\n",
    "clf.fit(x_train, y_train)\n",
    "y_pred = clf.predict(x_test)\n",
    "\n",
    "#Import scikit-learn metrics module for accuracy calculation\n",
    "from sklearn import metrics\n",
    "\n",
    "# Model Accuracy: how often is the classifier correct?\n",
    "print(\"Accuracy:\",metrics.accuracy_score(y_test, y_pred))"
   ]
  },
  {
   "cell_type": "code",
   "execution_count": 36,
   "id": "transparent-leave",
   "metadata": {
    "execution": {
     "iopub.execute_input": "2021-05-16T13:25:30.046338Z",
     "iopub.status.busy": "2021-05-16T13:25:30.045773Z",
     "iopub.status.idle": "2021-05-16T13:25:30.147602Z",
     "shell.execute_reply": "2021-05-16T13:25:30.148006Z"
    },
    "papermill": {
     "duration": 0.164071,
     "end_time": "2021-05-16T13:25:30.148156",
     "exception": false,
     "start_time": "2021-05-16T13:25:29.984085",
     "status": "completed"
    },
    "tags": []
   },
   "outputs": [
    {
     "name": "stdout",
     "output_type": "stream",
     "text": [
      "Confusion matrix\n",
      "\n",
      " [[22067 14933]\n",
      " [  239 45093]]\n",
      "\n",
      "True Positives(TP) =  22067\n",
      "\n",
      "True Negatives(TN) =  45093\n",
      "\n",
      "False Positives(FP) =  14933\n",
      "\n",
      "False Negatives(FN) =  239\n"
     ]
    }
   ],
   "source": [
    "cm = confusion_matrix(y_test, y_pred)\n",
    "print('Confusion matrix\\n\\n', cm)\n",
    "print('\\nTrue Positives(TP) = ', cm[0,0])\n",
    "print('\\nTrue Negatives(TN) = ', cm[1,1])\n",
    "print('\\nFalse Positives(FP) = ', cm[0,1])\n",
    "print('\\nFalse Negatives(FN) = ', cm[1,0])"
   ]
  },
  {
   "cell_type": "code",
   "execution_count": 37,
   "id": "scheduled-vancouver",
   "metadata": {
    "execution": {
     "iopub.execute_input": "2021-05-16T13:25:30.268963Z",
     "iopub.status.busy": "2021-05-16T13:25:30.268070Z",
     "iopub.status.idle": "2021-05-16T13:25:30.344625Z",
     "shell.execute_reply": "2021-05-16T13:25:30.345043Z"
    },
    "papermill": {
     "duration": 0.139422,
     "end_time": "2021-05-16T13:25:30.345202",
     "exception": false,
     "start_time": "2021-05-16T13:25:30.205780",
     "status": "completed"
    },
    "tags": []
   },
   "outputs": [
    {
     "name": "stdout",
     "output_type": "stream",
     "text": [
      "              precision    recall  f1-score   support\n",
      "\n",
      "           0       0.99      0.60      0.74     37000\n",
      "           1       0.75      0.99      0.86     45332\n",
      "\n",
      "    accuracy                           0.82     82332\n",
      "   macro avg       0.87      0.80      0.80     82332\n",
      "weighted avg       0.86      0.82      0.81     82332\n",
      "\n"
     ]
    }
   ],
   "source": [
    "from sklearn.metrics import classification_report\n",
    "print(classification_report(y_test, y_pred))"
   ]
  },
  {
   "cell_type": "markdown",
   "id": "worst-consequence",
   "metadata": {
    "papermill": {
     "duration": 0.055939,
     "end_time": "2021-05-16T13:25:30.458952",
     "exception": false,
     "start_time": "2021-05-16T13:25:30.403013",
     "status": "completed"
    },
    "tags": []
   },
   "source": [
    "# LightGBM with hyperparameter optimization"
   ]
  },
  {
   "cell_type": "code",
   "execution_count": 38,
   "id": "disturbed-injury",
   "metadata": {
    "execution": {
     "iopub.execute_input": "2021-05-16T13:25:30.578013Z",
     "iopub.status.busy": "2021-05-16T13:25:30.577435Z",
     "iopub.status.idle": "2021-05-16T13:25:37.826063Z",
     "shell.execute_reply": "2021-05-16T13:25:37.825513Z"
    },
    "papermill": {
     "duration": 7.31124,
     "end_time": "2021-05-16T13:25:37.826204",
     "exception": false,
     "start_time": "2021-05-16T13:25:30.514964",
     "status": "completed"
    },
    "tags": []
   },
   "outputs": [],
   "source": [
    "#basic tools \n",
    "import os\n",
    "import numpy as np\n",
    "import pandas as pd\n",
    "import warnings\n",
    "\n",
    "#tuning hyperparameters\n",
    "from bayes_opt import BayesianOptimization\n",
    "from skopt  import BayesSearchCV \n",
    "\n",
    "#graph, plots\n",
    "import matplotlib.pyplot as plt\n",
    "import seaborn as sns\n",
    "\n",
    "#building models\n",
    "import lightgbm as lgb\n",
    "import xgboost as xgb\n",
    "from sklearn.model_selection import train_test_split, StratifiedKFold, cross_val_score\n",
    "import time\n",
    "import sys\n",
    "\n",
    "#metrics \n",
    "from sklearn.metrics import roc_auc_score, roc_curve\n",
    "import shap\n",
    "warnings.simplefilter(action='ignore', category=FutureWarning)"
   ]
  },
  {
   "cell_type": "code",
   "execution_count": 39,
   "id": "elegant-david",
   "metadata": {
    "execution": {
     "iopub.execute_input": "2021-05-16T13:25:37.947221Z",
     "iopub.status.busy": "2021-05-16T13:25:37.946687Z",
     "iopub.status.idle": "2021-05-16T13:25:37.950703Z",
     "shell.execute_reply": "2021-05-16T13:25:37.950226Z"
    },
    "papermill": {
     "duration": 0.064563,
     "end_time": "2021-05-16T13:25:37.950829",
     "exception": false,
     "start_time": "2021-05-16T13:25:37.886266",
     "status": "completed"
    },
    "tags": []
   },
   "outputs": [],
   "source": [
    "y=y_train\n",
    "X=x_train"
   ]
  },
  {
   "cell_type": "code",
   "execution_count": 40,
   "id": "finite-teacher",
   "metadata": {
    "_kg_hide-output": false,
    "execution": {
     "iopub.execute_input": "2021-05-16T13:25:38.080306Z",
     "iopub.status.busy": "2021-05-16T13:25:38.079508Z",
     "iopub.status.idle": "2021-05-16T13:25:38.089444Z",
     "shell.execute_reply": "2021-05-16T13:25:38.088936Z"
    },
    "papermill": {
     "duration": 0.079442,
     "end_time": "2021-05-16T13:25:38.089638",
     "exception": false,
     "start_time": "2021-05-16T13:25:38.010196",
     "status": "completed"
    },
    "tags": []
   },
   "outputs": [
    {
     "ename": "IndentationError",
     "evalue": "unexpected indent (<unknown>, line 61)",
     "output_type": "error",
     "traceback": [
      "Traceback \u001b[0;36m(most recent call last)\u001b[0m:\n",
      "  File \u001b[1;32m\"/opt/conda/lib/python3.7/site-packages/IPython/core/interactiveshell.py\"\u001b[0m, line \u001b[1;32m3427\u001b[0m, in \u001b[1;35mrun_code\u001b[0m\n    exec(code_obj, self.user_global_ns, self.user_ns)\n",
      "  File \u001b[1;32m\"<ipython-input-40-d16a8f15b815>\"\u001b[0m, line \u001b[1;32m1\u001b[0m, in \u001b[1;35m<module>\u001b[0m\n    get_ipython().run_cell_magic('time', '', '\\ndef bayes_parameter_opt_lgb(X, y, init_round=15, opt_round=25, n_folds=3, random_seed=6,n_estimators=10000, output_process=False):\\n    # prepare data\\n    train_data = lgb.Dataset(data=X, label=y, free_raw_data=False)\\n    # parameters\\n    def lgb_eval(learning_rate,num_leaves, feature_fraction, bagging_fraction, max_depth, max_bin, min_data_in_leaf,min_sum_hessian_in_leaf,subsample):\\n        params = {\\'application\\':\\'binary\\', \\'metric\\':\\'auc\\'}\\n        params[\\'learning_rate\\'] = max(min(learning_rate, 1), 0)\\n        params[\"num_leaves\"] = int(round(num_leaves))\\n        params[\\'feature_fraction\\'] = max(min(feature_fraction, 1), 0)\\n        params[\\'bagging_fraction\\'] = max(min(bagging_fraction, 1), 0)\\n        params[\\'max_depth\\'] = int(round(max_depth))\\n        params[\\'max_bin\\'] = int(round(max_depth))\\n        params[\\'min_data_in_leaf\\'] = int(round(min_data_in_leaf))\\n        params[\\'min_sum_hessian_in_leaf\\'] = min_sum_hessian_in_leaf\\n        params[\\'subsample\\'] = max(min(subsample, 1), 0)\\n        \\n        cv_result = lgb.cv(params, train_data, nfold=n_folds, seed=random_seed, stratified=True, verbose_eval =200, metrics=[\\'auc\\'])\\n        return max(cv_result[\\'auc-mean\\'])\\n     \\n    lgbBO = BayesianOptimization(lgb_eval, {\\'learning_rate\\': (0.01, 1.0),\\n                                            \\'num_leaves\\': (24, 80),\\n                                            \\'feature_fraction\\': (0.1, 0.9),\\n                                            \\'bagging_fraction\\': (0.8, 1),\\n                                            \\'max_depth\\': (5, 30),\\n                                            \\'max_bin\\':(20,90),\\n                                            \\'min_data_in_leaf\\': (20, 80),\\n                                            \\'min_sum_hessian_in_leaf\\':(0,100),\\n                                           \\'subsample\\': (0.01, 1.0)}, random_state=200)\\n\\n    \\n    #n_iter: How many steps of bayesian optimization you want to perform. The more steps the more likely to find a good maximum you are.\\n    #init_points: How many steps of random exploration you want to perform. Random exploration can help by diversifying the exploration space.\\n    \\n    lgbBO.maximize(init_points=init_round, n_iter=opt_round)\\n    \\n    model_auc=[]#basic tools \\nimport os\\nimport numpy as np\\nimport pandas as pd\\nimport warnings\\n\\n#tuning hyperparameters\\nfrom bayes_opt import BayesianOptimization\\nfrom skopt  import BayesSearchCV \\n\\n#graph, plots\\nimport matplotlib.pyplot as plt\\nimport seaborn as sns\\n\\n#building models\\nimport lightgbm as lgb\\nimport xgboost as xgb\\nfrom sklearn.model_selection import train_test_split, StratifiedKFold, cross_val_score\\nimport time\\nimport sys\\n\\n#metrics \\nfrom sklearn.metrics import roc_auc_score, roc_curve\\nimport shap\\nwarnings.simplefilter(action=\\'ignore\\', category=FutureWarning)\\n    for model in range(len( lgbBO.res)):\\n        model_auc.append(lgbBO.res[model][\\'target\\'])\\n    \\n    # return best parameters\\n    return lgbBO.res[pd.Series(model_auc).idxmax()][\\'target\\'],lgbBO.res[pd.Series(model_auc).idxmax()][\\'params\\']\\n\\nopt_params = bayes_parameter_opt_lgb(X, y, init_round=5, opt_round=10, n_folds=3, random_seed=6,n_estimators=10000)\\n')\n",
      "  File \u001b[1;32m\"/opt/conda/lib/python3.7/site-packages/IPython/core/interactiveshell.py\"\u001b[0m, line \u001b[1;32m2391\u001b[0m, in \u001b[1;35mrun_cell_magic\u001b[0m\n    result = fn(*args, **kwargs)\n",
      "  File \u001b[1;32m\"<decorator-gen-54>\"\u001b[0m, line \u001b[1;32m2\u001b[0m, in \u001b[1;35mtime\u001b[0m\n",
      "  File \u001b[1;32m\"/opt/conda/lib/python3.7/site-packages/IPython/core/magic.py\"\u001b[0m, line \u001b[1;32m187\u001b[0m, in \u001b[1;35m<lambda>\u001b[0m\n    call = lambda f, *a, **k: f(*a, **k)\n",
      "  File \u001b[1;32m\"/opt/conda/lib/python3.7/site-packages/IPython/core/magics/execution.py\"\u001b[0m, line \u001b[1;32m1277\u001b[0m, in \u001b[1;35mtime\u001b[0m\n    expr_ast = self.shell.compile.ast_parse(expr)\n",
      "\u001b[0;36m  File \u001b[0;32m\"/opt/conda/lib/python3.7/site-packages/IPython/core/compilerop.py\"\u001b[0;36m, line \u001b[0;32m101\u001b[0;36m, in \u001b[0;35mast_parse\u001b[0;36m\u001b[0m\n\u001b[0;31m    return compile(source, filename, symbol, self.flags | PyCF_ONLY_AST, 1)\u001b[0m\n",
      "\u001b[0;36m  File \u001b[0;32m\"<unknown>\"\u001b[0;36m, line \u001b[0;32m61\u001b[0m\n\u001b[0;31m    for model in range(len( lgbBO.res)):\u001b[0m\n\u001b[0m    ^\u001b[0m\n\u001b[0;31mIndentationError\u001b[0m\u001b[0;31m:\u001b[0m unexpected indent\n"
     ]
    }
   ],
   "source": [
    "%%time\n",
    "\n",
    "def bayes_parameter_opt_lgb(X, y, init_round=15, opt_round=25, n_folds=3, random_seed=6,n_estimators=10000, output_process=False):\n",
    "    # prepare data\n",
    "    train_data = lgb.Dataset(data=X, label=y, free_raw_data=False)\n",
    "    # parameters\n",
    "    def lgb_eval(learning_rate,num_leaves, feature_fraction, bagging_fraction, max_depth, max_bin, min_data_in_leaf,min_sum_hessian_in_leaf,subsample):\n",
    "        params = {'application':'binary', 'metric':'auc'}\n",
    "        params['learning_rate'] = max(min(learning_rate, 1), 0)\n",
    "        params[\"num_leaves\"] = int(round(num_leaves))\n",
    "        params['feature_fraction'] = max(min(feature_fraction, 1), 0)\n",
    "        params['bagging_fraction'] = max(min(bagging_fraction, 1), 0)\n",
    "        params['max_depth'] = int(round(max_depth))\n",
    "        params['max_bin'] = int(round(max_depth))\n",
    "        params['min_data_in_leaf'] = int(round(min_data_in_leaf))\n",
    "        params['min_sum_hessian_in_leaf'] = min_sum_hessian_in_leaf\n",
    "        params['subsample'] = max(min(subsample, 1), 0)\n",
    "        \n",
    "        cv_result = lgb.cv(params, train_data, nfold=n_folds, seed=random_seed, stratified=True, verbose_eval =200, metrics=['auc'])\n",
    "        return max(cv_result['auc-mean'])\n",
    "     \n",
    "    lgbBO = BayesianOptimization(lgb_eval, {'learning_rate': (0.01, 1.0),\n",
    "                                            'num_leaves': (24, 80),\n",
    "                                            'feature_fraction': (0.1, 0.9),\n",
    "                                            'bagging_fraction': (0.8, 1),\n",
    "                                            'max_depth': (5, 30),\n",
    "                                            'max_bin':(20,90),\n",
    "                                            'min_data_in_leaf': (20, 80),\n",
    "                                            'min_sum_hessian_in_leaf':(0,100),\n",
    "                                           'subsample': (0.01, 1.0)}, random_state=200)\n",
    "\n",
    "    \n",
    "    #n_iter: How many steps of bayesian optimization you want to perform. The more steps the more likely to find a good maximum you are.\n",
    "    #init_points: How many steps of random exploration you want to perform. Random exploration can help by diversifying the exploration space.\n",
    "    \n",
    "    lgbBO.maximize(init_points=init_round, n_iter=opt_round)\n",
    "    \n",
    "    model_auc=[]#basic tools \n",
    "import os\n",
    "import numpy as np\n",
    "import pandas as pd\n",
    "import warnings\n",
    "\n",
    "#tuning hyperparameters\n",
    "from bayes_opt import BayesianOptimization\n",
    "from skopt  import BayesSearchCV \n",
    "\n",
    "#graph, plots\n",
    "import matplotlib.pyplot as plt\n",
    "import seaborn as sns\n",
    "\n",
    "#building models\n",
    "import lightgbm as lgb\n",
    "import xgboost as xgb\n",
    "from sklearn.model_selection import train_test_split, StratifiedKFold, cross_val_score\n",
    "import time\n",
    "import sys\n",
    "\n",
    "#metrics \n",
    "from sklearn.metrics import roc_auc_score, roc_curve\n",
    "import shap\n",
    "warnings.simplefilter(action='ignore', category=FutureWarning)\n",
    "    for model in range(len( lgbBO.res)):\n",
    "        model_auc.append(lgbBO.res[model]['target'])\n",
    "    \n",
    "    # return best parameters\n",
    "    return lgbBO.res[pd.Series(model_auc).idxmax()]['target'],lgbBO.res[pd.Series(model_auc).idxmax()]['params']\n",
    "\n",
    "opt_params = bayes_parameter_opt_lgb(X, y, init_round=5, opt_round=10, n_folds=3, random_seed=6,n_estimators=10000)"
   ]
  },
  {
   "cell_type": "code",
   "execution_count": 41,
   "id": "integral-division",
   "metadata": {
    "execution": {
     "iopub.execute_input": "2021-05-16T13:25:38.221002Z",
     "iopub.status.busy": "2021-05-16T13:25:38.217759Z",
     "iopub.status.idle": "2021-05-16T13:25:38.588703Z",
     "shell.execute_reply": "2021-05-16T13:25:38.588160Z"
    },
    "papermill": {
     "duration": 0.438907,
     "end_time": "2021-05-16T13:25:38.588846",
     "exception": false,
     "start_time": "2021-05-16T13:25:38.149939",
     "status": "completed"
    },
    "tags": []
   },
   "outputs": [
    {
     "ename": "NameError",
     "evalue": "name 'opt_params' is not defined",
     "output_type": "error",
     "traceback": [
      "\u001b[0;31m---------------------------------------------------------------------------\u001b[0m",
      "\u001b[0;31mNameError\u001b[0m                                 Traceback (most recent call last)",
      "\u001b[0;32m<ipython-input-41-9a112cbb962e>\u001b[0m in \u001b[0;36m<module>\u001b[0;34m\u001b[0m\n\u001b[0;32m----> 1\u001b[0;31m \u001b[0mopt_params\u001b[0m\u001b[0;34m[\u001b[0m\u001b[0;36m1\u001b[0m\u001b[0;34m]\u001b[0m\u001b[0;34m[\u001b[0m\u001b[0;34m\"num_leaves\"\u001b[0m\u001b[0;34m]\u001b[0m \u001b[0;34m=\u001b[0m \u001b[0mint\u001b[0m\u001b[0;34m(\u001b[0m\u001b[0mround\u001b[0m\u001b[0;34m(\u001b[0m\u001b[0mopt_params\u001b[0m\u001b[0;34m[\u001b[0m\u001b[0;36m1\u001b[0m\u001b[0;34m]\u001b[0m\u001b[0;34m[\u001b[0m\u001b[0;34m\"num_leaves\"\u001b[0m\u001b[0;34m]\u001b[0m\u001b[0;34m)\u001b[0m\u001b[0;34m)\u001b[0m\u001b[0;34m\u001b[0m\u001b[0;34m\u001b[0m\u001b[0m\n\u001b[0m\u001b[1;32m      2\u001b[0m \u001b[0mopt_params\u001b[0m\u001b[0;34m[\u001b[0m\u001b[0;36m1\u001b[0m\u001b[0;34m]\u001b[0m\u001b[0;34m[\u001b[0m\u001b[0;34m'max_depth'\u001b[0m\u001b[0;34m]\u001b[0m \u001b[0;34m=\u001b[0m \u001b[0mint\u001b[0m\u001b[0;34m(\u001b[0m\u001b[0mround\u001b[0m\u001b[0;34m(\u001b[0m\u001b[0mopt_params\u001b[0m\u001b[0;34m[\u001b[0m\u001b[0;36m1\u001b[0m\u001b[0;34m]\u001b[0m\u001b[0;34m[\u001b[0m\u001b[0;34m'max_depth'\u001b[0m\u001b[0;34m]\u001b[0m\u001b[0;34m)\u001b[0m\u001b[0;34m)\u001b[0m\u001b[0;34m\u001b[0m\u001b[0;34m\u001b[0m\u001b[0m\n\u001b[1;32m      3\u001b[0m \u001b[0mopt_params\u001b[0m\u001b[0;34m[\u001b[0m\u001b[0;36m1\u001b[0m\u001b[0;34m]\u001b[0m\u001b[0;34m[\u001b[0m\u001b[0;34m'min_data_in_leaf'\u001b[0m\u001b[0;34m]\u001b[0m \u001b[0;34m=\u001b[0m \u001b[0mint\u001b[0m\u001b[0;34m(\u001b[0m\u001b[0mround\u001b[0m\u001b[0;34m(\u001b[0m\u001b[0mopt_params\u001b[0m\u001b[0;34m[\u001b[0m\u001b[0;36m1\u001b[0m\u001b[0;34m]\u001b[0m\u001b[0;34m[\u001b[0m\u001b[0;34m'min_data_in_leaf'\u001b[0m\u001b[0;34m]\u001b[0m\u001b[0;34m)\u001b[0m\u001b[0;34m)\u001b[0m\u001b[0;34m\u001b[0m\u001b[0;34m\u001b[0m\u001b[0m\n\u001b[1;32m      4\u001b[0m \u001b[0mopt_params\u001b[0m\u001b[0;34m[\u001b[0m\u001b[0;36m1\u001b[0m\u001b[0;34m]\u001b[0m\u001b[0;34m[\u001b[0m\u001b[0;34m'max_bin'\u001b[0m\u001b[0;34m]\u001b[0m \u001b[0;34m=\u001b[0m \u001b[0mint\u001b[0m\u001b[0;34m(\u001b[0m\u001b[0mround\u001b[0m\u001b[0;34m(\u001b[0m\u001b[0mopt_params\u001b[0m\u001b[0;34m[\u001b[0m\u001b[0;36m1\u001b[0m\u001b[0;34m]\u001b[0m\u001b[0;34m[\u001b[0m\u001b[0;34m'max_bin'\u001b[0m\u001b[0;34m]\u001b[0m\u001b[0;34m)\u001b[0m\u001b[0;34m)\u001b[0m\u001b[0;34m\u001b[0m\u001b[0;34m\u001b[0m\u001b[0m\n\u001b[1;32m      5\u001b[0m \u001b[0mopt_params\u001b[0m\u001b[0;34m[\u001b[0m\u001b[0;36m1\u001b[0m\u001b[0;34m]\u001b[0m\u001b[0;34m[\u001b[0m\u001b[0;34m'objective'\u001b[0m\u001b[0;34m]\u001b[0m\u001b[0;34m=\u001b[0m\u001b[0;34m'binary'\u001b[0m\u001b[0;34m\u001b[0m\u001b[0;34m\u001b[0m\u001b[0m\n",
      "\u001b[0;31mNameError\u001b[0m: name 'opt_params' is not defined"
     ]
    }
   ],
   "source": [
    "opt_params[1][\"num_leaves\"] = int(round(opt_params[1][\"num_leaves\"]))\n",
    "opt_params[1]['max_depth'] = int(round(opt_params[1]['max_depth']))\n",
    "opt_params[1]['min_data_in_leaf'] = int(round(opt_params[1]['min_data_in_leaf']))\n",
    "opt_params[1]['max_bin'] = int(round(opt_params[1]['max_bin']))\n",
    "opt_params[1]['objective']='binary'\n",
    "opt_params[1]['metric']='auc'\n",
    "opt_params[1]['is_unbalance']=True\n",
    "opt_params[1]['boost_from_average']=False\n",
    "opt_params=opt_params[1]\n",
    "opt_params"
   ]
  },
  {
   "cell_type": "code",
   "execution_count": 42,
   "id": "vocal-waste",
   "metadata": {
    "execution": {
     "iopub.execute_input": "2021-05-16T13:25:38.756790Z",
     "iopub.status.busy": "2021-05-16T13:25:38.755110Z",
     "iopub.status.idle": "2021-05-16T13:25:38.846008Z",
     "shell.execute_reply": "2021-05-16T13:25:38.845535Z"
    },
    "papermill": {
     "duration": 0.19859,
     "end_time": "2021-05-16T13:25:38.846131",
     "exception": false,
     "start_time": "2021-05-16T13:25:38.647541",
     "status": "completed"
    },
    "tags": []
   },
   "outputs": [
    {
     "name": "stdout",
     "output_type": "stream",
     "text": [
      "Fold 0\n"
     ]
    },
    {
     "ename": "NameError",
     "evalue": "name 'opt_params' is not defined",
     "output_type": "error",
     "traceback": [
      "\u001b[0;31m---------------------------------------------------------------------------\u001b[0m",
      "\u001b[0;31mNameError\u001b[0m                                 Traceback (most recent call last)",
      "\u001b[0;32m<timed exec>\u001b[0m in \u001b[0;36m<module>\u001b[0;34m\u001b[0m\n",
      "\u001b[0;31mNameError\u001b[0m: name 'opt_params' is not defined"
     ]
    }
   ],
   "source": [
    "%%time \n",
    "\n",
    "target=y_train\n",
    "features= [c for c in x_train.columns if c not in ['label']]\n",
    "\n",
    "\n",
    "folds = StratifiedKFold(n_splits=10, shuffle=True, random_state=31416)\n",
    "oof = np.zeros(len(train))\n",
    "predictions = np.zeros(len(test))\n",
    "feature_importance_df = pd.DataFrame()\n",
    "\n",
    "for fold_, (trn_idx, val_idx) in enumerate(folds.split(x_train.values, target.values)):\n",
    "    print(\"Fold {}\".format(fold_))\n",
    "    trn_data = lgb.Dataset(x_train.iloc[trn_idx][features], label=target.iloc[trn_idx])\n",
    "    val_data = lgb.Dataset(x_train.iloc[val_idx][features], label=target.iloc[val_idx])\n",
    "\n",
    "    num_round = 15000\n",
    "    clf = lgb.train(opt_params, trn_data, num_round, valid_sets = [trn_data, val_data], verbose_eval=500, early_stopping_rounds = 250)\n",
    "    oof[val_idx] = clf.predict(x_train.iloc[val_idx][features], num_iteration=clf.best_iteration)\n",
    "    \n",
    "    fold_importance_df = pd.DataFrame()\n",
    "    fold_importance_df[\"Feature\"] = features\n",
    "    fold_importance_df[\"importance\"] = clf.feature_importance()\n",
    "    fold_importance_df[\"fold\"] = fold_ + 1\n",
    "    feature_importance_df = pd.concat([feature_importance_df, fold_importance_df], axis=0)\n",
    "    \n",
    "    predictions += clf.predict(x_test[features], num_iteration=clf.best_iteration) / folds.n_splits\n",
    "\n",
    "print(\"CV score: {:<8.5f}\".format(roc_auc_score(target, oof)))"
   ]
  },
  {
   "cell_type": "code",
   "execution_count": 43,
   "id": "limiting-budget",
   "metadata": {
    "execution": {
     "iopub.execute_input": "2021-05-16T13:25:38.993499Z",
     "iopub.status.busy": "2021-05-16T13:25:38.992709Z",
     "iopub.status.idle": "2021-05-16T13:25:39.009972Z",
     "shell.execute_reply": "2021-05-16T13:25:39.009180Z"
    },
    "papermill": {
     "duration": 0.101966,
     "end_time": "2021-05-16T13:25:39.010109",
     "exception": false,
     "start_time": "2021-05-16T13:25:38.908143",
     "status": "completed"
    },
    "tags": []
   },
   "outputs": [
    {
     "ename": "KeyError",
     "evalue": "\"None of [Index(['Feature', 'importance'], dtype='object')] are in the [columns]\"",
     "output_type": "error",
     "traceback": [
      "\u001b[0;31m---------------------------------------------------------------------------\u001b[0m",
      "\u001b[0;31mKeyError\u001b[0m                                  Traceback (most recent call last)",
      "\u001b[0;32m<ipython-input-43-650e16632a65>\u001b[0m in \u001b[0;36m<module>\u001b[0;34m\u001b[0m\n\u001b[0;32m----> 1\u001b[0;31m cols = (feature_importance_df[[\"Feature\", \"importance\"]]\n\u001b[0m\u001b[1;32m      2\u001b[0m         \u001b[0;34m.\u001b[0m\u001b[0mgroupby\u001b[0m\u001b[0;34m(\u001b[0m\u001b[0;34m\"Feature\"\u001b[0m\u001b[0;34m)\u001b[0m\u001b[0;34m\u001b[0m\u001b[0;34m\u001b[0m\u001b[0m\n\u001b[1;32m      3\u001b[0m         \u001b[0;34m.\u001b[0m\u001b[0mmean\u001b[0m\u001b[0;34m(\u001b[0m\u001b[0;34m)\u001b[0m\u001b[0;34m\u001b[0m\u001b[0;34m\u001b[0m\u001b[0m\n\u001b[1;32m      4\u001b[0m         .sort_values(by=\"importance\", ascending=False)[:20].index)\n\u001b[1;32m      5\u001b[0m \u001b[0mbest_features\u001b[0m \u001b[0;34m=\u001b[0m \u001b[0mfeature_importance_df\u001b[0m\u001b[0;34m.\u001b[0m\u001b[0mloc\u001b[0m\u001b[0;34m[\u001b[0m\u001b[0mfeature_importance_df\u001b[0m\u001b[0;34m.\u001b[0m\u001b[0mFeature\u001b[0m\u001b[0;34m.\u001b[0m\u001b[0misin\u001b[0m\u001b[0;34m(\u001b[0m\u001b[0mcols\u001b[0m\u001b[0;34m)\u001b[0m\u001b[0;34m]\u001b[0m\u001b[0;34m\u001b[0m\u001b[0;34m\u001b[0m\u001b[0m\n",
      "\u001b[0;32m/opt/conda/lib/python3.7/site-packages/pandas/core/frame.py\u001b[0m in \u001b[0;36m__getitem__\u001b[0;34m(self, key)\u001b[0m\n\u001b[1;32m   3028\u001b[0m             \u001b[0;32mif\u001b[0m \u001b[0mis_iterator\u001b[0m\u001b[0;34m(\u001b[0m\u001b[0mkey\u001b[0m\u001b[0;34m)\u001b[0m\u001b[0;34m:\u001b[0m\u001b[0;34m\u001b[0m\u001b[0;34m\u001b[0m\u001b[0m\n\u001b[1;32m   3029\u001b[0m                 \u001b[0mkey\u001b[0m \u001b[0;34m=\u001b[0m \u001b[0mlist\u001b[0m\u001b[0;34m(\u001b[0m\u001b[0mkey\u001b[0m\u001b[0;34m)\u001b[0m\u001b[0;34m\u001b[0m\u001b[0;34m\u001b[0m\u001b[0m\n\u001b[0;32m-> 3030\u001b[0;31m             \u001b[0mindexer\u001b[0m \u001b[0;34m=\u001b[0m \u001b[0mself\u001b[0m\u001b[0;34m.\u001b[0m\u001b[0mloc\u001b[0m\u001b[0;34m.\u001b[0m\u001b[0m_get_listlike_indexer\u001b[0m\u001b[0;34m(\u001b[0m\u001b[0mkey\u001b[0m\u001b[0;34m,\u001b[0m \u001b[0maxis\u001b[0m\u001b[0;34m=\u001b[0m\u001b[0;36m1\u001b[0m\u001b[0;34m,\u001b[0m \u001b[0mraise_missing\u001b[0m\u001b[0;34m=\u001b[0m\u001b[0;32mTrue\u001b[0m\u001b[0;34m)\u001b[0m\u001b[0;34m[\u001b[0m\u001b[0;36m1\u001b[0m\u001b[0;34m]\u001b[0m\u001b[0;34m\u001b[0m\u001b[0;34m\u001b[0m\u001b[0m\n\u001b[0m\u001b[1;32m   3031\u001b[0m \u001b[0;34m\u001b[0m\u001b[0m\n\u001b[1;32m   3032\u001b[0m         \u001b[0;31m# take() does not accept boolean indexers\u001b[0m\u001b[0;34m\u001b[0m\u001b[0;34m\u001b[0m\u001b[0;34m\u001b[0m\u001b[0m\n",
      "\u001b[0;32m/opt/conda/lib/python3.7/site-packages/pandas/core/indexing.py\u001b[0m in \u001b[0;36m_get_listlike_indexer\u001b[0;34m(self, key, axis, raise_missing)\u001b[0m\n\u001b[1;32m   1264\u001b[0m             \u001b[0mkeyarr\u001b[0m\u001b[0;34m,\u001b[0m \u001b[0mindexer\u001b[0m\u001b[0;34m,\u001b[0m \u001b[0mnew_indexer\u001b[0m \u001b[0;34m=\u001b[0m \u001b[0max\u001b[0m\u001b[0;34m.\u001b[0m\u001b[0m_reindex_non_unique\u001b[0m\u001b[0;34m(\u001b[0m\u001b[0mkeyarr\u001b[0m\u001b[0;34m)\u001b[0m\u001b[0;34m\u001b[0m\u001b[0;34m\u001b[0m\u001b[0m\n\u001b[1;32m   1265\u001b[0m \u001b[0;34m\u001b[0m\u001b[0m\n\u001b[0;32m-> 1266\u001b[0;31m         \u001b[0mself\u001b[0m\u001b[0;34m.\u001b[0m\u001b[0m_validate_read_indexer\u001b[0m\u001b[0;34m(\u001b[0m\u001b[0mkeyarr\u001b[0m\u001b[0;34m,\u001b[0m \u001b[0mindexer\u001b[0m\u001b[0;34m,\u001b[0m \u001b[0maxis\u001b[0m\u001b[0;34m,\u001b[0m \u001b[0mraise_missing\u001b[0m\u001b[0;34m=\u001b[0m\u001b[0mraise_missing\u001b[0m\u001b[0;34m)\u001b[0m\u001b[0;34m\u001b[0m\u001b[0;34m\u001b[0m\u001b[0m\n\u001b[0m\u001b[1;32m   1267\u001b[0m         \u001b[0;32mreturn\u001b[0m \u001b[0mkeyarr\u001b[0m\u001b[0;34m,\u001b[0m \u001b[0mindexer\u001b[0m\u001b[0;34m\u001b[0m\u001b[0;34m\u001b[0m\u001b[0m\n\u001b[1;32m   1268\u001b[0m \u001b[0;34m\u001b[0m\u001b[0m\n",
      "\u001b[0;32m/opt/conda/lib/python3.7/site-packages/pandas/core/indexing.py\u001b[0m in \u001b[0;36m_validate_read_indexer\u001b[0;34m(self, key, indexer, axis, raise_missing)\u001b[0m\n\u001b[1;32m   1306\u001b[0m             \u001b[0;32mif\u001b[0m \u001b[0mmissing\u001b[0m \u001b[0;34m==\u001b[0m \u001b[0mlen\u001b[0m\u001b[0;34m(\u001b[0m\u001b[0mindexer\u001b[0m\u001b[0;34m)\u001b[0m\u001b[0;34m:\u001b[0m\u001b[0;34m\u001b[0m\u001b[0;34m\u001b[0m\u001b[0m\n\u001b[1;32m   1307\u001b[0m                 \u001b[0maxis_name\u001b[0m \u001b[0;34m=\u001b[0m \u001b[0mself\u001b[0m\u001b[0;34m.\u001b[0m\u001b[0mobj\u001b[0m\u001b[0;34m.\u001b[0m\u001b[0m_get_axis_name\u001b[0m\u001b[0;34m(\u001b[0m\u001b[0maxis\u001b[0m\u001b[0;34m)\u001b[0m\u001b[0;34m\u001b[0m\u001b[0;34m\u001b[0m\u001b[0m\n\u001b[0;32m-> 1308\u001b[0;31m                 \u001b[0;32mraise\u001b[0m \u001b[0mKeyError\u001b[0m\u001b[0;34m(\u001b[0m\u001b[0;34mf\"None of [{key}] are in the [{axis_name}]\"\u001b[0m\u001b[0;34m)\u001b[0m\u001b[0;34m\u001b[0m\u001b[0;34m\u001b[0m\u001b[0m\n\u001b[0m\u001b[1;32m   1309\u001b[0m \u001b[0;34m\u001b[0m\u001b[0m\n\u001b[1;32m   1310\u001b[0m             \u001b[0max\u001b[0m \u001b[0;34m=\u001b[0m \u001b[0mself\u001b[0m\u001b[0;34m.\u001b[0m\u001b[0mobj\u001b[0m\u001b[0;34m.\u001b[0m\u001b[0m_get_axis\u001b[0m\u001b[0;34m(\u001b[0m\u001b[0maxis\u001b[0m\u001b[0;34m)\u001b[0m\u001b[0;34m\u001b[0m\u001b[0;34m\u001b[0m\u001b[0m\n",
      "\u001b[0;31mKeyError\u001b[0m: \"None of [Index(['Feature', 'importance'], dtype='object')] are in the [columns]\""
     ]
    }
   ],
   "source": [
    "cols = (feature_importance_df[[\"Feature\", \"importance\"]]\n",
    "        .groupby(\"Feature\")\n",
    "        .mean()\n",
    "        .sort_values(by=\"importance\", ascending=False)[:20].index)\n",
    "best_features = feature_importance_df.loc[feature_importance_df.Feature.isin(cols)]\n",
    "\n",
    "plt.figure(figsize=(20,28))\n",
    "sns.barplot(x=\"importance\", y=\"Feature\", data=best_features.sort_values(by=\"importance\",ascending=False))\n",
    "plt.title('Features importance (averaged/folds)')\n",
    "plt.tight_layout()\n",
    "plt.savefig('Feature_Importance.png')"
   ]
  },
  {
   "cell_type": "code",
   "execution_count": 44,
   "id": "professional-meaning",
   "metadata": {
    "execution": {
     "iopub.execute_input": "2021-05-16T13:25:39.142627Z",
     "iopub.status.busy": "2021-05-16T13:25:39.142013Z",
     "iopub.status.idle": "2021-05-16T13:28:38.193936Z",
     "shell.execute_reply": "2021-05-16T13:28:38.193107Z"
    },
    "papermill": {
     "duration": 179.12125,
     "end_time": "2021-05-16T13:28:38.194267",
     "exception": false,
     "start_time": "2021-05-16T13:25:39.073017",
     "status": "completed"
    },
    "tags": []
   },
   "outputs": [],
   "source": [
    "y_pred = clf.predict(x_test)"
   ]
  },
  {
   "cell_type": "code",
   "execution_count": 45,
   "id": "separate-touch",
   "metadata": {
    "execution": {
     "iopub.execute_input": "2021-05-16T13:28:38.319433Z",
     "iopub.status.busy": "2021-05-16T13:28:38.318875Z",
     "iopub.status.idle": "2021-05-16T13:28:38.322723Z",
     "shell.execute_reply": "2021-05-16T13:28:38.322303Z"
    },
    "papermill": {
     "duration": 0.068662,
     "end_time": "2021-05-16T13:28:38.322835",
     "exception": false,
     "start_time": "2021-05-16T13:28:38.254173",
     "status": "completed"
    },
    "tags": []
   },
   "outputs": [
    {
     "data": {
      "text/plain": [
       "array([1, 1, 1, 1, 1, 1, 1, 1, 0, 0])"
      ]
     },
     "execution_count": 45,
     "metadata": {},
     "output_type": "execute_result"
    }
   ],
   "source": [
    "y_pred[0:10]"
   ]
  },
  {
   "cell_type": "code",
   "execution_count": 46,
   "id": "inside-friendly",
   "metadata": {
    "execution": {
     "iopub.execute_input": "2021-05-16T13:28:38.462868Z",
     "iopub.status.busy": "2021-05-16T13:28:38.452480Z",
     "iopub.status.idle": "2021-05-16T13:28:38.677939Z",
     "shell.execute_reply": "2021-05-16T13:28:38.677384Z"
    },
    "papermill": {
     "duration": 0.296759,
     "end_time": "2021-05-16T13:28:38.678077",
     "exception": false,
     "start_time": "2021-05-16T13:28:38.381318",
     "status": "completed"
    },
    "tags": []
   },
   "outputs": [],
   "source": [
    "y_pred_target = [0 for i in range(len(y_pred))]\n",
    "for i in range(len(y_pred)):\n",
    "    if(y_pred[i] >= 0.5):\n",
    "        y_pred_target[i] = 1\n",
    "    else:\n",
    "        y_pred_target[i] = 0"
   ]
  },
  {
   "cell_type": "code",
   "execution_count": 47,
   "id": "adjacent-burst",
   "metadata": {
    "execution": {
     "iopub.execute_input": "2021-05-16T13:28:38.809727Z",
     "iopub.status.busy": "2021-05-16T13:28:38.809123Z",
     "iopub.status.idle": "2021-05-16T13:28:38.813834Z",
     "shell.execute_reply": "2021-05-16T13:28:38.813379Z"
    },
    "papermill": {
     "duration": 0.074314,
     "end_time": "2021-05-16T13:28:38.813958",
     "exception": false,
     "start_time": "2021-05-16T13:28:38.739644",
     "status": "completed"
    },
    "tags": []
   },
   "outputs": [
    {
     "data": {
      "text/plain": [
       "[1, 1, 1, 1, 1, 1, 1, 1, 0, 0]"
      ]
     },
     "execution_count": 47,
     "metadata": {},
     "output_type": "execute_result"
    }
   ],
   "source": [
    "y_pred_target[0:10]"
   ]
  },
  {
   "cell_type": "code",
   "execution_count": 48,
   "id": "juvenile-location",
   "metadata": {
    "execution": {
     "iopub.execute_input": "2021-05-16T13:28:38.956101Z",
     "iopub.status.busy": "2021-05-16T13:28:38.955563Z",
     "iopub.status.idle": "2021-05-16T13:28:39.032826Z",
     "shell.execute_reply": "2021-05-16T13:28:39.033255Z"
    },
    "papermill": {
     "duration": 0.157035,
     "end_time": "2021-05-16T13:28:39.033425",
     "exception": false,
     "start_time": "2021-05-16T13:28:38.876390",
     "status": "completed"
    },
    "tags": []
   },
   "outputs": [
    {
     "name": "stdout",
     "output_type": "stream",
     "text": [
      "LightGBM Model accuracy score: 0.8157\n"
     ]
    }
   ],
   "source": [
    "# view accuracy\n",
    "from sklearn.metrics import accuracy_score\n",
    "accuracy=accuracy_score(y_pred_target, y_test)\n",
    "print('LightGBM Model accuracy score: {0:0.4f}'.format(accuracy_score(y_test, y_pred_target)))"
   ]
  },
  {
   "cell_type": "code",
   "execution_count": 49,
   "id": "tender-purple",
   "metadata": {
    "execution": {
     "iopub.execute_input": "2021-05-16T13:28:39.161519Z",
     "iopub.status.busy": "2021-05-16T13:28:39.160823Z",
     "iopub.status.idle": "2021-05-16T13:37:53.666207Z",
     "shell.execute_reply": "2021-05-16T13:37:53.666727Z"
    },
    "papermill": {
     "duration": 554.573847,
     "end_time": "2021-05-16T13:37:53.666982",
     "exception": false,
     "start_time": "2021-05-16T13:28:39.093135",
     "status": "completed"
    },
    "tags": []
   },
   "outputs": [
    {
     "name": "stdout",
     "output_type": "stream",
     "text": [
      "Training set score: 0.9372\n",
      "Test set score: 0.8157\n"
     ]
    }
   ],
   "source": [
    "# print the scores on training and test set\n",
    "\n",
    "print('Training set score: {:.4f}'.format(clf.score(x_train, y_train)))\n",
    "\n",
    "print('Test set score: {:.4f}'.format(clf.score(x_test, y_test)))"
   ]
  },
  {
   "cell_type": "code",
   "execution_count": 50,
   "id": "smaller-ordering",
   "metadata": {
    "execution": {
     "iopub.execute_input": "2021-05-16T13:37:53.798668Z",
     "iopub.status.busy": "2021-05-16T13:37:53.798079Z",
     "iopub.status.idle": "2021-05-16T13:37:53.941717Z",
     "shell.execute_reply": "2021-05-16T13:37:53.942200Z"
    },
    "papermill": {
     "duration": 0.211604,
     "end_time": "2021-05-16T13:37:53.942382",
     "exception": false,
     "start_time": "2021-05-16T13:37:53.730778",
     "status": "completed"
    },
    "tags": []
   },
   "outputs": [
    {
     "name": "stdout",
     "output_type": "stream",
     "text": [
      "Confusion matrix\n",
      "\n",
      " [[22067 14933]\n",
      " [  239 45093]]\n",
      "\n",
      "True Positives(TP) =  22067\n",
      "\n",
      "True Negatives(TN) =  45093\n",
      "\n",
      "False Positives(FP) =  14933\n",
      "\n",
      "False Negatives(FN) =  239\n"
     ]
    }
   ],
   "source": [
    "\n",
    "\n",
    "# view confusion-matrix\n",
    "# Print the Confusion Matrix and slice it into four pieces\n",
    "\n",
    "from sklearn.metrics import confusion_matrix\n",
    "cm = confusion_matrix(y_test, y_pred_target)\n",
    "print('Confusion matrix\\n\\n', cm)\n",
    "print('\\nTrue Positives(TP) = ', cm[0,0])\n",
    "print('\\nTrue Negatives(TN) = ', cm[1,1])\n",
    "print('\\nFalse Positives(FP) = ', cm[0,1])\n",
    "print('\\nFalse Negatives(FN) = ', cm[1,0])"
   ]
  },
  {
   "cell_type": "code",
   "execution_count": 51,
   "id": "developed-pixel",
   "metadata": {
    "execution": {
     "iopub.execute_input": "2021-05-16T13:37:54.094375Z",
     "iopub.status.busy": "2021-05-16T13:37:54.093775Z",
     "iopub.status.idle": "2021-05-16T13:37:54.273567Z",
     "shell.execute_reply": "2021-05-16T13:37:54.273009Z"
    },
    "papermill": {
     "duration": 0.26755,
     "end_time": "2021-05-16T13:37:54.273683",
     "exception": false,
     "start_time": "2021-05-16T13:37:54.006133",
     "status": "completed"
    },
    "tags": []
   },
   "outputs": [
    {
     "data": {
      "text/plain": [
       "<AxesSubplot:>"
      ]
     },
     "execution_count": 51,
     "metadata": {},
     "output_type": "execute_result"
    },
    {
     "data": {
      "image/png": "[encoded data removed]",
      "text/plain": [
       "<Figure size 432x288 with 2 Axes>"
      ]
     },
     "metadata": {
      "needs_background": "light"
     },
     "output_type": "display_data"
    }
   ],
   "source": [
    "# visualize confusion matrix with seaborn heatmap\n",
    "\n",
    "cm_matrix = pd.DataFrame(data=cm, columns=['Actual Positive:1', 'Actual Negative:0'], \n",
    "                                 index=['Predict Positive:1', 'Predict Negative:0'])\n",
    "\n",
    "sns.heatmap(cm_matrix, annot=True, fmt='d', cmap='YlGnBu')"
   ]
  },
  {
   "cell_type": "code",
   "execution_count": 52,
   "id": "molecular-bobby",
   "metadata": {
    "execution": {
     "iopub.execute_input": "2021-05-16T13:37:54.401494Z",
     "iopub.status.busy": "2021-05-16T13:37:54.400853Z",
     "iopub.status.idle": "2021-05-16T13:37:54.515056Z",
     "shell.execute_reply": "2021-05-16T13:37:54.514504Z"
    },
    "papermill": {
     "duration": 0.180583,
     "end_time": "2021-05-16T13:37:54.515178",
     "exception": false,
     "start_time": "2021-05-16T13:37:54.334595",
     "status": "completed"
    },
    "tags": []
   },
   "outputs": [
    {
     "name": "stdout",
     "output_type": "stream",
     "text": [
      "              precision    recall  f1-score   support\n",
      "\n",
      "           0       0.99      0.60      0.74     37000\n",
      "           1       0.75      0.99      0.86     45332\n",
      "\n",
      "    accuracy                           0.82     82332\n",
      "   macro avg       0.87      0.80      0.80     82332\n",
      "weighted avg       0.86      0.82      0.81     82332\n",
      "\n"
     ]
    }
   ],
   "source": [
    "from sklearn.metrics import classification_report\n",
    "print(classification_report(y_test, y_pred_target))"
   ]
  },
  {
   "cell_type": "code",
   "execution_count": null,
   "id": "moving-charles",
   "metadata": {
    "papermill": {
     "duration": 0.062442,
     "end_time": "2021-05-16T13:37:54.640334",
     "exception": false,
     "start_time": "2021-05-16T13:37:54.577892",
     "status": "completed"
    },
    "tags": []
   },
   "outputs": [],
   "source": []
  }
 ],
 "metadata": {
  "kernelspec": {
   "display_name": "Python 3",
   "language": "python",
   "name": "python3"
  },
  "language_info": {
   "codemirror_mode": {
    "name": "ipython",
    "version": 3
   },
   "file_extension": ".py",
   "mimetype": "text/x-python",
   "name": "python",
   "nbconvert_exporter": "python",
   "pygments_lexer": "ipython3",
   "version": "3.7.9"
  },
  "papermill": {
   "default_parameters": {},
   "duration": 2296.75231,
   "end_time": "2021-05-16T13:37:55.912290",
   "environment_variables": {},
   "exception": null,
   "input_path": "__notebook__.ipynb",
   "output_path": "__notebook__.ipynb",
   "parameters": {},
   "start_time": "2021-05-16T12:59:39.159980",
   "version": "2.3.2"
  }
 },
 "nbformat": 4,
 "nbformat_minor": 5
}
